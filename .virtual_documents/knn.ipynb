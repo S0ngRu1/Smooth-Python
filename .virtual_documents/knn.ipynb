





get_ipython().getoutput("pip install scikit-learn")
from sklearn.neighbors import KNeighborsClassifier





x = [[0],[1],[2],[3]]
y = [0,0,1,1]





# 实例化API
estimator = KNeighborsClassifier(n_neighbors=2)

# 使用fit方法进行训练
estimator.fit(x,y)

estimator.predict([[4]])





# 加载鸢尾花数据集

from sklearn.datasets import load_iris

iris = load_iris()
print(iris)


# 大数据集获取

from sklearn.datasets import fetch_20newsgroups

news = fetch_20newsgroups()
print(news)
