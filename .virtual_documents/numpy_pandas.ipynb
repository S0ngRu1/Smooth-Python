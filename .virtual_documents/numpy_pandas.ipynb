


import random
import time
import numpy as np

a = []
for i in range(100000):
    a.append(random.random())

# %time 是 IPython 环境（如 Jupyter Notebook、JupyterLab 或 IPython 终端）中的魔术命令，用于测量代码执行时间。
get_ipython().run_line_magic("time", " sum1 = sum(a)")

b = np.array(a)
get_ipython().run_line_magic("time", " sum2 = np.sum(b)")



import numpy as np
np.ones(10)


import numpy as np
np.ones([2,3])


np.zeros_like(np.ones([2,3]))


arr = np.arange(12).reshape(3, 4)  # 3行4列数组：[[0,1,2,3],[4,5,6,7],[8,9,10,11]]

# 索引
print(arr[1, 2])  # 第2行第3列：6

# 切片（取第1-2行，第2-3列）
print(arr[0:2, 1:3])  # [[1,2], [5,6]]

# 省略号（...）表示剩余维度全取
print(arr[..., 0])  # 取所有行的第1列：[0,4,8]


arr = np.arange(12).reshape(3, 4)
arr1 = np.array(arr)
arr2 = np.asarray(arr)
print(arr1 is arr)  # False，arr1是新数组
print(arr2 is arr)  # False，arr2是新数组
arr3 = np.array(arr, copy=False)
print(arr3 is arr)  # True，arr3是视图，没有复制数据
arr4  = np.array(arr, copy=True)
print(arr4 is arr)  # False，arr4是新数组
arr1[0,0] = 100
print(arr)  # arr未变，arr1是新数组（深拷贝）
arr3[0,0] = 200
print(arr)  # arr变了，arr3是视图（浅拷贝）
arr2[0,0] = 300
print(arr)  # arr变了，arr2是视图(浅拷贝)


np.linspace(1,10,10)  # 1到10之间均匀取10个数


np.logspace(1,10,10)  # 10的1次方到10的10次方之间均匀取10个数


import numpy as np
# 生成均值为5，标准差为2的4个正态分布随机数
normal_arr = np.random.normal(loc=5, scale=2, size=4)
print(normal_arr)


import numpy as np
stock_change = np.random.normal(0, 1, (1000, 4))  # 1000天，4只股票的日收益率
print(stock_change)

stock_change.shape



# 随机生成正态分布数据，10天，5只股票
import numpy as np
stock_change = np.random.normal(0,1,(10,5))
print(stock_change.shape)
stock_change


# pandas
import pandas as pd
pd.DataFrame(stock_change)


# 添加行列标签
stock_code = [f'股票{i+1}' for i in range(stock_change.shape[0])]
print(stock_code)

pd.DataFrame(stock_change,index=stock_code)


# 设置列标签，采用pd.date_range()自动生成跳过周末的时间
date = pd.date_range(start='20190403',periods=stock_change.shape[1],freq='B')
date


stock_c = pd.DataFrame(stock_change,index=stock_code, columns=date)


stock_c.head()   # 查看前五行


stock_c.tail()   # 查看后五行


# 不可以先行后列
# stock_c['股票6']['2019-04-03']
stock_c['2019-04-03']['股票6']


stock_c.describe()


stock_c[['2019-04-03']].apply(lambda x: x.max()-x.min())


stock_c[['2019-04-03']].apply(lambda x: (x > 0) & (x < 0.2))


# 文件保存
stock_c.to_csv("output_index.csv", index=True)


# 创建含缺失值的 DataFrame
df = pd.DataFrame({
    'A': [1, np.nan, 3],
    'B': [4, 5, None],
    'C': [7, 8, 9]
})

# 判断缺失值（返回布尔值 DataFrame）
print(df.isna())
# 统计每列缺失值数量
print(df.isna().sum())
