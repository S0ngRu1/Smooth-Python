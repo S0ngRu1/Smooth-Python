{
 "cells": [
  {
   "cell_type": "markdown",
   "metadata": {},
   "source": [
    "# Python 数据模型"
   ]
  },
  {
   "cell_type": "markdown",
   "metadata": {},
   "source": [
    "## 1-1一摞Python风格的纸牌"
   ]
  },
  {
   "cell_type": "code",
   "execution_count": 2,
   "metadata": {},
   "outputs": [],
   "source": [
    "# \\1-1 一摞有序的纸牌.py\n",
    "import collections\n",
    "Card = collections.namedtuple('Card', ['rank', 'suit'])\n",
    "class FrenchDeck:\n",
    "    ranks = [str(n) for n in range(2, 11)] + list('JQKA')\n",
    "    suits = 'spades diamonds clubs hearts'.split()\n",
    "\n",
    "    def __init__(self):\n",
    "        self._cards = [Card(rank, suit) for suit in self.suits\n",
    "                       for rank in self.ranks]\n",
    "\n",
    "    def __len__(self):\n",
    "        return len(self._cards)\n",
    "    \n",
    "    def __getitem__(self, position):\n",
    "        return self._cards[position]\n"
   ]
  },
  {
   "cell_type": "code",
   "execution_count": 3,
   "metadata": {},
   "outputs": [
    {
     "data": {
      "text/plain": [
       "52"
      ]
     },
     "execution_count": 3,
     "metadata": {},
     "output_type": "execute_result"
    }
   ],
   "source": [
    "# 特殊方法的用法\n",
    "deck = FrenchDeck()\n",
    "len(deck)"
   ]
  },
  {
   "cell_type": "markdown",
   "metadata": {},
   "source": [
    "## 拓展：collections相关模块\n",
    "collections 是 Python 标准库中的一个模块，提供了一些额外的、功能强大的数据结构，这些数据结构是对 Python 内置数据结构（如列表、字典、集合等）的补充和扩展。\n",
    "collections 模块中的数据结构通常在特定场景下**比内置数据结构更高效、更方便。**"
   ]
  },
  {
   "cell_type": "markdown",
   "metadata": {},
   "source": [
    "### 1.nametuple 模块\n",
    "namedtuple 是一个工厂函数，用于创建具有命名字段的**元组子类**。它结合了普通元组的高效性和字典的可读性。\n",
    "特点：\n",
    "- 创建可读性更高的数据结构\n",
    "\n",
    "    普通元组通过索引来访问元素，可读性较差。而 namedtuple 允许通过字段名访问元素\n",
    "- 不可变性\n",
    "\n",
    "     namedtuple 创建的对象是不可变的，一旦创建，其字段值不能被修改。这使得它在需要表示不可变数据时非常有用，类似于 tuple 的特性。\n",
    "- 轻量级和高效\n",
    "\n",
    "    namedtuple 的内存占用比普通类实例更小，性能也接近普通元组。它是一种轻量级的数据结构，适合存储少量数据。\n",
    "- 兼容元组操作\n",
    "\n",
    "    namedtuple 对象本质上仍然是元组，因此可以使用元组的所有方法（如索引、切片等）\n"
   ]
  },
  {
   "cell_type": "code",
   "execution_count": 4,
   "metadata": {},
   "outputs": [
    {
     "name": "stdout",
     "output_type": "stream",
     "text": [
      "Alice\n",
      "30\n",
      "New York\n",
      "30\n",
      "Person(name='Alice', age=30, city='New York')\n"
     ]
    },
    {
     "data": {
      "text/plain": [
       "Card(rank='7', suit='diamonds')"
      ]
     },
     "execution_count": 4,
     "metadata": {},
     "output_type": "execute_result"
    }
   ],
   "source": [
    "from collections import namedtuple\n",
    "# 第一个参数为类名，第二个参数为属性列表，整体为元组子类\n",
    "Person = namedtuple(\"Person\", [\"name\", \"age\", \"city\"])\n",
    "person = Person(\"Alice\", 30, \"New York\")\n",
    "\n",
    "print(person.name)  # 输出: Alice\n",
    "print(person.age)   # 输出: 30\n",
    "print(person.city)  # 输出: New York\n",
    "print(person[1])\n",
    "print(person)\n",
    "beer_card = Card('7', 'diamonds')\n",
    "beer_card"
   ]
  },
  {
   "cell_type": "markdown",
   "metadata": {},
   "source": [
    "另外，namedtuple 可以通过继承来扩展，添加新的方法或属性。\n",
    "\n",
    "```python\n",
    "class Person(namedtuple(\"PersonBase\", [\"name\", \"age\"])):\n",
    "    def greet(self):\n",
    "        return f\"Hello, my name is {self.name} and I am {self.age} years old.\"\n",
    "\n",
    "person = Person(\"Bob\", 25)\n",
    "print(person.greet())  # 输出: Hello, my name is Bob and I am 25 years old.\n",
    "```"
   ]
  },
  {
   "cell_type": "markdown",
   "metadata": {},
   "source": [
    "### 3. Counter 模块\n",
    "Counter 是一个用于计数的字典子类，它可以帮助快速统计元素出现的次数。\n",
    "```python\n",
    "from collections import Counter\n",
    "\n",
    "counter = Counter(\"hello\")\n",
    "print(counter)  # 输出：Counter({'l': 2, 'h': 1, 'e': 1, 'o': 1})\n",
    "```"
   ]
  },
  {
   "cell_type": "markdown",
   "metadata": {},
   "source": [
    "### 2. deque 模块\n",
    "deque（双端队列）是一个线程安全的双向队列，支持从两端高效地添加和移除元素。它比普通列表更适合处理队列操作，因为列表在头部插入或删除元素时效率较低。\n",
    "\n",
    "```python\n",
    "from collections import deque\n",
    "\n",
    "dq = deque([1, 2, 3])\n",
    "dq.append(4)  # 在右侧添加元素\n",
    "dq.appendleft(0)  # 在左侧添加元素\n",
    "print(dq)  # 输出：deque([0, 1, 2, 3, 4])\n",
    "```"
   ]
  },
  {
   "cell_type": "markdown",
   "metadata": {},
   "source": [
    "### 4. defaultdict 模块\n",
    "defaultdict 是一个字典子类，它提供了一个默认值工厂函数。\n",
    "当访问不存在的键时，defaultdict 会自动为该键生成一个默认值。\n",
    "\n",
    "```python\n",
    "from collections import defaultdict\n",
    "\n",
    "d = defaultdict(int)  # 默认值为 int 类型的 0\n",
    "d[\"key\"] += 1\n",
    "print(d[\"key\"])  # 输出：1\n",
    "print(d[\"nonexistent_key\"])  # 输出：0\n",
    "```"
   ]
  },
  {
   "cell_type": "markdown",
   "metadata": {},
   "source": []
  }
 ],
 "metadata": {
  "kernelspec": {
   "display_name": "Python 3",
   "language": "python",
   "name": "python3"
  },
  "language_info": {
   "codemirror_mode": {
    "name": "ipython",
    "version": 3
   },
   "file_extension": ".py",
   "mimetype": "text/x-python",
   "name": "python",
   "nbconvert_exporter": "python",
   "pygments_lexer": "ipython3",
   "version": "3.12.9"
  }
 },
 "nbformat": 4,
 "nbformat_minor": 2
}
