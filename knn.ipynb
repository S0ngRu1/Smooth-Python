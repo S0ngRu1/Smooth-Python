{
 "cells": [
  {
   "cell_type": "markdown",
   "id": "7ddbaa65-58d1-47cd-90fa-eba4a9c02484",
   "metadata": {},
   "source": [
    "# K近邻算法 KNN"
   ]
  },
  {
   "cell_type": "markdown",
   "id": "733aaaec-af72-48c9-afb9-3058d5d3e2f1",
   "metadata": {},
   "source": [
    "## 导入包"
   ]
  },
  {
   "cell_type": "code",
   "execution_count": 3,
   "id": "17fae5fa-dab9-48d6-9a95-0e6f236831cb",
   "metadata": {},
   "outputs": [
    {
     "name": "stdout",
     "output_type": "stream",
     "text": [
      "Looking in indexes: https://pypi.tuna.tsinghua.edu.cn/simple\n",
      "Collecting scikit-learn\n",
      "  Using cached https://pypi.tuna.tsinghua.edu.cn/packages/58/0e/8c2a03d518fb6bd0b6b0d4b114c63d5f1db01ff0f9925d8eb10960d01c01/scikit_learn-1.7.2-cp310-cp310-manylinux2014_x86_64.manylinux_2_17_x86_64.whl (9.7 MB)\n",
      "Requirement already satisfied: numpy>=1.22.0 in /root/.pyenv/versions/3.10.18/envs/ai/lib/python3.10/site-packages (from scikit-learn) (2.2.6)\n",
      "Collecting scipy>=1.8.0 (from scikit-learn)\n",
      "  Using cached https://pypi.tuna.tsinghua.edu.cn/packages/8e/6d/41991e503e51fc1134502694c5fa7a1671501a17ffa12716a4a9151af3df/scipy-1.15.3-cp310-cp310-manylinux_2_17_x86_64.manylinux2014_x86_64.whl (37.7 MB)\n",
      "Collecting joblib>=1.2.0 (from scikit-learn)\n",
      "  Using cached https://pypi.tuna.tsinghua.edu.cn/packages/1e/e8/685f47e0d754320684db4425a0967f7d3fa70126bffd76110b7009a0090f/joblib-1.5.2-py3-none-any.whl (308 kB)\n",
      "Collecting threadpoolctl>=3.1.0 (from scikit-learn)\n",
      "  Using cached https://pypi.tuna.tsinghua.edu.cn/packages/32/d5/f9a850d79b0851d1d4ef6456097579a9005b31fea68726a4ae5f2d82ddd9/threadpoolctl-3.6.0-py3-none-any.whl (18 kB)\n",
      "Installing collected packages: threadpoolctl, scipy, joblib, scikit-learn\n",
      "\u001b[2K   \u001b[90m━━━━━━━━━━━━━━━━━━━━━━━━━━━━━━━━━━━━━━━━\u001b[0m \u001b[32m4/4\u001b[0m [scikit-learn][0m [scikit-learn]\n",
      "\u001b[1A\u001b[2KSuccessfully installed joblib-1.5.2 scikit-learn-1.7.2 scipy-1.15.3 threadpoolctl-3.6.0\n"
     ]
    }
   ],
   "source": [
    "!pip install scikit-learn\n",
    "from sklearn.neighbors import KNeighborsClassifier"
   ]
  },
  {
   "cell_type": "markdown",
   "id": "047d583a-db95-445d-8fc7-60fb4944fa9a",
   "metadata": {},
   "source": [
    "## 创建数据"
   ]
  },
  {
   "cell_type": "code",
   "execution_count": 5,
   "id": "ec952669-0d31-4061-a3cb-fae27d94bb52",
   "metadata": {},
   "outputs": [],
   "source": [
    "x = [[0],[1],[2],[3]]\n",
    "y = [0,0,1,1]"
   ]
  },
  {
   "cell_type": "markdown",
   "id": "bac5c8e1-288a-4d0d-a49e-835d978c0cf9",
   "metadata": {},
   "source": [
    "## 机器学习-模型训练"
   ]
  },
  {
   "cell_type": "code",
   "execution_count": 7,
   "id": "5922571a-1933-407b-afbe-d8309b0bf93a",
   "metadata": {},
   "outputs": [
    {
     "data": {
      "text/plain": [
       "array([1])"
      ]
     },
     "execution_count": 7,
     "metadata": {},
     "output_type": "execute_result"
    }
   ],
   "source": [
    "# 实例化API\n",
    "estimator = KNeighborsClassifier(n_neighbors=2)\n",
    "\n",
    "# 使用fit方法进行训练\n",
    "estimator.fit(x,y)\n",
    "\n",
    "estimator.predict([[4]])"
   ]
  },
  {
   "cell_type": "code",
   "execution_count": null,
   "id": "eb555560-723d-4ee4-93c8-a375b6a2cf8e",
   "metadata": {},
   "outputs": [],
   "source": []
  }
 ],
 "metadata": {
  "kernelspec": {
   "display_name": "Python 3 (ipykernel)",
   "language": "python",
   "name": "python3"
  },
  "language_info": {
   "codemirror_mode": {
    "name": "ipython",
    "version": 3
   },
   "file_extension": ".py",
   "mimetype": "text/x-python",
   "name": "python",
   "nbconvert_exporter": "python",
   "pygments_lexer": "ipython3",
   "version": "3.10.18"
  }
 },
 "nbformat": 4,
 "nbformat_minor": 5
}
