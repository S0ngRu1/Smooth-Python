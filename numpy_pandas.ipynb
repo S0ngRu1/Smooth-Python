{
 "cells": [
  {
   "cell_type": "markdown",
   "id": "4ee97ef4",
   "metadata": {},
   "source": [
    "numpy与list运算效率比较"
   ]
  },
  {
   "cell_type": "code",
   "execution_count": null,
   "id": "2f01ab53a1c7e96a",
   "metadata": {},
   "outputs": [],
   "source": [
    "import random\n",
    "import time\n",
    "import numpy as np\n",
    "\n",
    "a = []\n",
    "for i in range(100000000):\n",
    "    a.append(random.random())\n",
    "\n",
    "# %time 是 IPython 环境（如 Jupyter Notebook、JupyterLab 或 IPython 终端）中的魔术命令，用于测量代码执行时间。\n",
    "%time sum1 = sum(a)\n",
    "\n",
    "b = np.array(a)\n",
    "%time sum2 = np.sum(b)\n"
   ]
  },
  {
   "cell_type": "code",
   "execution_count": 2,
   "id": "0ff41be1",
   "metadata": {},
   "outputs": [
    {
     "data": {
      "text/plain": [
       "array([1., 1., 1., 1., 1., 1., 1., 1., 1., 1.])"
      ]
     },
     "execution_count": 2,
     "metadata": {},
     "output_type": "execute_result"
    }
   ],
   "source": [
    "import numpy as np\n",
    "np.ones(10)"
   ]
  },
  {
   "cell_type": "code",
   "execution_count": 3,
   "id": "034c90ac",
   "metadata": {},
   "outputs": [
    {
     "data": {
      "text/plain": [
       "array([[1., 1., 1.],\n",
       "       [1., 1., 1.]])"
      ]
     },
     "execution_count": 3,
     "metadata": {},
     "output_type": "execute_result"
    }
   ],
   "source": [
    "import numpy as np\n",
    "np.ones([2,3])"
   ]
  },
  {
   "cell_type": "code",
   "execution_count": 4,
   "id": "cb437c23",
   "metadata": {},
   "outputs": [
    {
     "data": {
      "text/plain": [
       "array([[0, 0, 0],\n",
       "       [0, 0, 0]])"
      ]
     },
     "execution_count": 4,
     "metadata": {},
     "output_type": "execute_result"
    }
   ],
   "source": [
    "np.zeros_like(np.array([[1,2,3],[4,5,6]]))"
   ]
  },
  {
   "cell_type": "code",
   "execution_count": 5,
   "id": "5694f7ee",
   "metadata": {},
   "outputs": [
    {
     "name": "stdout",
     "output_type": "stream",
     "text": [
      "6\n",
      "[[1 2]\n",
      " [5 6]]\n",
      "[0 4 8]\n"
     ]
    }
   ],
   "source": [
    "arr = np.arange(12).reshape(3, 4)  # 3行4列数组：[[0,1,2,3],[4,5,6,7],[8,9,10,11]]\n",
    "\n",
    "# 索引\n",
    "print(arr[1, 2])  # 第2行第3列：6\n",
    "\n",
    "# 切片（取第1-2行，第2-3列）\n",
    "print(arr[0:2, 1:3])  # [[1,2], [5,6]]\n",
    "\n",
    "# 省略号（...）表示剩余维度全取\n",
    "print(arr[..., 0])  # 取所有行的第1列：[0,4,8]"
   ]
  },
  {
   "cell_type": "code",
   "execution_count": 6,
   "id": "6cf0298c",
   "metadata": {},
   "outputs": [
    {
     "name": "stdout",
     "output_type": "stream",
     "text": [
      "False\n",
      "True\n",
      "True\n",
      "False\n",
      "[[ 0  1  2  3]\n",
      " [ 4  5  6  7]\n",
      " [ 8  9 10 11]]\n",
      "[[200   1   2   3]\n",
      " [  4   5   6   7]\n",
      " [  8   9  10  11]]\n",
      "[[300   1   2   3]\n",
      " [  4   5   6   7]\n",
      " [  8   9  10  11]]\n"
     ]
    }
   ],
   "source": [
    "arr = np.arange(12).reshape(3, 4)\n",
    "arr1 = np.array(arr)\n",
    "arr2 = np.asarray(arr)\n",
    "print(arr1 is arr)  # False，arr1是新数组\n",
    "print(arr2 is arr)  # False，arr2是新数组\n",
    "arr3 = np.array(arr, copy=False)\n",
    "print(arr3 is arr)  # True，arr3是视图，没有复制数据\n",
    "arr4  = np.array(arr, copy=True)\n",
    "print(arr4 is arr)  # False，arr4是新数组\n",
    "arr1[0,0] = 100\n",
    "print(arr)  # arr未变，arr1是新数组（深拷贝）\n",
    "arr3[0,0] = 200\n",
    "print(arr)  # arr变了，arr3是视图（浅拷贝）\n",
    "arr2[0,0] = 300\n",
    "print(arr)  # arr变了，arr2是视图(浅拷贝)"
   ]
  },
  {
   "cell_type": "code",
   "execution_count": 7,
   "id": "5c04b7ca",
   "metadata": {},
   "outputs": [
    {
     "data": {
      "text/plain": [
       "array([ 1.,  2.,  3.,  4.,  5.,  6.,  7.,  8.,  9., 10.])"
      ]
     },
     "execution_count": 7,
     "metadata": {},
     "output_type": "execute_result"
    }
   ],
   "source": [
    "np.linspace(1,10,10)  # 1到10之间均匀取10个数"
   ]
  },
  {
   "cell_type": "code",
   "execution_count": 8,
   "id": "da0bd90f",
   "metadata": {},
   "outputs": [
    {
     "data": {
      "text/plain": [
       "array([1.e+01, 1.e+02, 1.e+03, 1.e+04, 1.e+05, 1.e+06, 1.e+07, 1.e+08,\n",
       "       1.e+09, 1.e+10])"
      ]
     },
     "execution_count": 8,
     "metadata": {},
     "output_type": "execute_result"
    }
   ],
   "source": [
    "np.logspace(1,10,10)  # 10的1次方到10的10次方之间均匀取10个数"
   ]
  },
  {
   "cell_type": "code",
   "execution_count": 9,
   "id": "d4888bbc",
   "metadata": {},
   "outputs": [
    {
     "name": "stdout",
     "output_type": "stream",
     "text": [
      "[5.34355335 4.57936675 3.10478078 3.59145075]\n"
     ]
    }
   ],
   "source": [
    "import numpy as np\n",
    "# 生成均值为5，标准差为2的4个正态分布随机数\n",
    "normal_arr = np.random.normal(loc=5, scale=2, size=4)\n",
    "print(normal_arr)"
   ]
  },
  {
   "cell_type": "code",
   "execution_count": 10,
   "id": "5b02c130",
   "metadata": {},
   "outputs": [
    {
     "name": "stdout",
     "output_type": "stream",
     "text": [
      "[[-0.63350751  0.91204643  1.27833243 -0.80431442]\n",
      " [ 0.13567564 -0.30295933  0.92114988 -0.2019134 ]\n",
      " [-1.2825885   0.20066806  0.06189313 -1.11798961]\n",
      " ...\n",
      " [ 1.7030109   0.63406156  0.67981411  0.33277854]\n",
      " [-1.01427916 -0.96020508 -0.04346708 -1.29565318]\n",
      " [-1.30243049 -0.3337324  -0.41125527 -1.7373276 ]]\n"
     ]
    },
    {
     "data": {
      "text/plain": [
       "(1000, 4)"
      ]
     },
     "execution_count": 10,
     "metadata": {},
     "output_type": "execute_result"
    }
   ],
   "source": [
    "import numpy as np\n",
    "stock_change = np.random.normal(0, 1, (1000, 4))  # 1000天，4只股票的日收益率\n",
    "print(stock_change)\n",
    "\n",
    "stock_change.shape\n"
   ]
  },
  {
   "cell_type": "code",
   "execution_count": 11,
   "id": "92b6ce8c",
   "metadata": {},
   "outputs": [
    {
     "name": "stdout",
     "output_type": "stream",
     "text": [
      "(10, 5)\n"
     ]
    },
    {
     "data": {
      "text/plain": [
       "array([[ 0.04536047, -0.87932512, -0.09725504, -0.3075453 , -1.02723929],\n",
       "       [-0.2175281 , -1.96118885, -1.05759124,  1.35287499,  2.31949323],\n",
       "       [ 0.6278956 ,  0.3899473 ,  0.27175606,  0.8715988 , -0.88641377],\n",
       "       [ 0.71499227,  1.00830608, -1.33074912, -1.36366635, -2.22911781],\n",
       "       [ 0.58421362, -1.18933533,  0.8336049 , -0.99810914,  1.56959525],\n",
       "       [ 0.86107819, -0.2601732 , -0.27175824,  0.82039003, -1.46000756],\n",
       "       [-1.51579835,  1.1585687 ,  1.09383734, -2.26001689, -1.6001209 ],\n",
       "       [ 0.19525833,  1.10020344,  0.04566768, -0.07027456, -1.68459137],\n",
       "       [ 1.21164901, -1.09778492,  0.65076268, -0.02402788,  2.13768039],\n",
       "       [ 0.4719082 ,  0.97167663, -0.15022226, -0.30679351, -0.40171845]])"
      ]
     },
     "execution_count": 11,
     "metadata": {},
     "output_type": "execute_result"
    }
   ],
   "source": [
    "# 随机生成正态分布数据，10天，5只股票\n",
    "import numpy as np\n",
    "stock_change = np.random.normal(0,1,(10,5))\n",
    "print(stock_change.shape)\n",
    "stock_change"
   ]
  },
  {
   "cell_type": "code",
   "execution_count": 13,
   "id": "7ce41ff4",
   "metadata": {},
   "outputs": [
    {
     "data": {
      "text/html": [
       "<div>\n",
       "<style scoped>\n",
       "    .dataframe tbody tr th:only-of-type {\n",
       "        vertical-align: middle;\n",
       "    }\n",
       "\n",
       "    .dataframe tbody tr th {\n",
       "        vertical-align: top;\n",
       "    }\n",
       "\n",
       "    .dataframe thead th {\n",
       "        text-align: right;\n",
       "    }\n",
       "</style>\n",
       "<table border=\"1\" class=\"dataframe\">\n",
       "  <thead>\n",
       "    <tr style=\"text-align: right;\">\n",
       "      <th></th>\n",
       "      <th>0</th>\n",
       "      <th>1</th>\n",
       "      <th>2</th>\n",
       "      <th>3</th>\n",
       "      <th>4</th>\n",
       "    </tr>\n",
       "  </thead>\n",
       "  <tbody>\n",
       "    <tr>\n",
       "      <th>0</th>\n",
       "      <td>0.045360</td>\n",
       "      <td>-0.879325</td>\n",
       "      <td>-0.097255</td>\n",
       "      <td>-0.307545</td>\n",
       "      <td>-1.027239</td>\n",
       "    </tr>\n",
       "    <tr>\n",
       "      <th>1</th>\n",
       "      <td>-0.217528</td>\n",
       "      <td>-1.961189</td>\n",
       "      <td>-1.057591</td>\n",
       "      <td>1.352875</td>\n",
       "      <td>2.319493</td>\n",
       "    </tr>\n",
       "    <tr>\n",
       "      <th>2</th>\n",
       "      <td>0.627896</td>\n",
       "      <td>0.389947</td>\n",
       "      <td>0.271756</td>\n",
       "      <td>0.871599</td>\n",
       "      <td>-0.886414</td>\n",
       "    </tr>\n",
       "    <tr>\n",
       "      <th>3</th>\n",
       "      <td>0.714992</td>\n",
       "      <td>1.008306</td>\n",
       "      <td>-1.330749</td>\n",
       "      <td>-1.363666</td>\n",
       "      <td>-2.229118</td>\n",
       "    </tr>\n",
       "    <tr>\n",
       "      <th>4</th>\n",
       "      <td>0.584214</td>\n",
       "      <td>-1.189335</td>\n",
       "      <td>0.833605</td>\n",
       "      <td>-0.998109</td>\n",
       "      <td>1.569595</td>\n",
       "    </tr>\n",
       "    <tr>\n",
       "      <th>5</th>\n",
       "      <td>0.861078</td>\n",
       "      <td>-0.260173</td>\n",
       "      <td>-0.271758</td>\n",
       "      <td>0.820390</td>\n",
       "      <td>-1.460008</td>\n",
       "    </tr>\n",
       "    <tr>\n",
       "      <th>6</th>\n",
       "      <td>-1.515798</td>\n",
       "      <td>1.158569</td>\n",
       "      <td>1.093837</td>\n",
       "      <td>-2.260017</td>\n",
       "      <td>-1.600121</td>\n",
       "    </tr>\n",
       "    <tr>\n",
       "      <th>7</th>\n",
       "      <td>0.195258</td>\n",
       "      <td>1.100203</td>\n",
       "      <td>0.045668</td>\n",
       "      <td>-0.070275</td>\n",
       "      <td>-1.684591</td>\n",
       "    </tr>\n",
       "    <tr>\n",
       "      <th>8</th>\n",
       "      <td>1.211649</td>\n",
       "      <td>-1.097785</td>\n",
       "      <td>0.650763</td>\n",
       "      <td>-0.024028</td>\n",
       "      <td>2.137680</td>\n",
       "    </tr>\n",
       "    <tr>\n",
       "      <th>9</th>\n",
       "      <td>0.471908</td>\n",
       "      <td>0.971677</td>\n",
       "      <td>-0.150222</td>\n",
       "      <td>-0.306794</td>\n",
       "      <td>-0.401718</td>\n",
       "    </tr>\n",
       "  </tbody>\n",
       "</table>\n",
       "</div>"
      ],
      "text/plain": [
       "          0         1         2         3         4\n",
       "0  0.045360 -0.879325 -0.097255 -0.307545 -1.027239\n",
       "1 -0.217528 -1.961189 -1.057591  1.352875  2.319493\n",
       "2  0.627896  0.389947  0.271756  0.871599 -0.886414\n",
       "3  0.714992  1.008306 -1.330749 -1.363666 -2.229118\n",
       "4  0.584214 -1.189335  0.833605 -0.998109  1.569595\n",
       "5  0.861078 -0.260173 -0.271758  0.820390 -1.460008\n",
       "6 -1.515798  1.158569  1.093837 -2.260017 -1.600121\n",
       "7  0.195258  1.100203  0.045668 -0.070275 -1.684591\n",
       "8  1.211649 -1.097785  0.650763 -0.024028  2.137680\n",
       "9  0.471908  0.971677 -0.150222 -0.306794 -0.401718"
      ]
     },
     "execution_count": 13,
     "metadata": {},
     "output_type": "execute_result"
    }
   ],
   "source": [
    "# pandas\n",
    "import pandas as pd\n",
    "pd.DataFrame(stock_change)"
   ]
  },
  {
   "cell_type": "code",
   "execution_count": 14,
   "id": "7e147a43",
   "metadata": {},
   "outputs": [
    {
     "name": "stdout",
     "output_type": "stream",
     "text": [
      "['股票1', '股票2', '股票3', '股票4', '股票5', '股票6', '股票7', '股票8', '股票9', '股票10']\n"
     ]
    },
    {
     "data": {
      "text/html": [
       "<div>\n",
       "<style scoped>\n",
       "    .dataframe tbody tr th:only-of-type {\n",
       "        vertical-align: middle;\n",
       "    }\n",
       "\n",
       "    .dataframe tbody tr th {\n",
       "        vertical-align: top;\n",
       "    }\n",
       "\n",
       "    .dataframe thead th {\n",
       "        text-align: right;\n",
       "    }\n",
       "</style>\n",
       "<table border=\"1\" class=\"dataframe\">\n",
       "  <thead>\n",
       "    <tr style=\"text-align: right;\">\n",
       "      <th></th>\n",
       "      <th>0</th>\n",
       "      <th>1</th>\n",
       "      <th>2</th>\n",
       "      <th>3</th>\n",
       "      <th>4</th>\n",
       "    </tr>\n",
       "  </thead>\n",
       "  <tbody>\n",
       "    <tr>\n",
       "      <th>股票1</th>\n",
       "      <td>0.045360</td>\n",
       "      <td>-0.879325</td>\n",
       "      <td>-0.097255</td>\n",
       "      <td>-0.307545</td>\n",
       "      <td>-1.027239</td>\n",
       "    </tr>\n",
       "    <tr>\n",
       "      <th>股票2</th>\n",
       "      <td>-0.217528</td>\n",
       "      <td>-1.961189</td>\n",
       "      <td>-1.057591</td>\n",
       "      <td>1.352875</td>\n",
       "      <td>2.319493</td>\n",
       "    </tr>\n",
       "    <tr>\n",
       "      <th>股票3</th>\n",
       "      <td>0.627896</td>\n",
       "      <td>0.389947</td>\n",
       "      <td>0.271756</td>\n",
       "      <td>0.871599</td>\n",
       "      <td>-0.886414</td>\n",
       "    </tr>\n",
       "    <tr>\n",
       "      <th>股票4</th>\n",
       "      <td>0.714992</td>\n",
       "      <td>1.008306</td>\n",
       "      <td>-1.330749</td>\n",
       "      <td>-1.363666</td>\n",
       "      <td>-2.229118</td>\n",
       "    </tr>\n",
       "    <tr>\n",
       "      <th>股票5</th>\n",
       "      <td>0.584214</td>\n",
       "      <td>-1.189335</td>\n",
       "      <td>0.833605</td>\n",
       "      <td>-0.998109</td>\n",
       "      <td>1.569595</td>\n",
       "    </tr>\n",
       "    <tr>\n",
       "      <th>股票6</th>\n",
       "      <td>0.861078</td>\n",
       "      <td>-0.260173</td>\n",
       "      <td>-0.271758</td>\n",
       "      <td>0.820390</td>\n",
       "      <td>-1.460008</td>\n",
       "    </tr>\n",
       "    <tr>\n",
       "      <th>股票7</th>\n",
       "      <td>-1.515798</td>\n",
       "      <td>1.158569</td>\n",
       "      <td>1.093837</td>\n",
       "      <td>-2.260017</td>\n",
       "      <td>-1.600121</td>\n",
       "    </tr>\n",
       "    <tr>\n",
       "      <th>股票8</th>\n",
       "      <td>0.195258</td>\n",
       "      <td>1.100203</td>\n",
       "      <td>0.045668</td>\n",
       "      <td>-0.070275</td>\n",
       "      <td>-1.684591</td>\n",
       "    </tr>\n",
       "    <tr>\n",
       "      <th>股票9</th>\n",
       "      <td>1.211649</td>\n",
       "      <td>-1.097785</td>\n",
       "      <td>0.650763</td>\n",
       "      <td>-0.024028</td>\n",
       "      <td>2.137680</td>\n",
       "    </tr>\n",
       "    <tr>\n",
       "      <th>股票10</th>\n",
       "      <td>0.471908</td>\n",
       "      <td>0.971677</td>\n",
       "      <td>-0.150222</td>\n",
       "      <td>-0.306794</td>\n",
       "      <td>-0.401718</td>\n",
       "    </tr>\n",
       "  </tbody>\n",
       "</table>\n",
       "</div>"
      ],
      "text/plain": [
       "             0         1         2         3         4\n",
       "股票1   0.045360 -0.879325 -0.097255 -0.307545 -1.027239\n",
       "股票2  -0.217528 -1.961189 -1.057591  1.352875  2.319493\n",
       "股票3   0.627896  0.389947  0.271756  0.871599 -0.886414\n",
       "股票4   0.714992  1.008306 -1.330749 -1.363666 -2.229118\n",
       "股票5   0.584214 -1.189335  0.833605 -0.998109  1.569595\n",
       "股票6   0.861078 -0.260173 -0.271758  0.820390 -1.460008\n",
       "股票7  -1.515798  1.158569  1.093837 -2.260017 -1.600121\n",
       "股票8   0.195258  1.100203  0.045668 -0.070275 -1.684591\n",
       "股票9   1.211649 -1.097785  0.650763 -0.024028  2.137680\n",
       "股票10  0.471908  0.971677 -0.150222 -0.306794 -0.401718"
      ]
     },
     "execution_count": 14,
     "metadata": {},
     "output_type": "execute_result"
    }
   ],
   "source": [
    "# 添加行列标签\n",
    "stock_code = [f'股票{i+1}' for i in range(stock_change.shape[0])]\n",
    "print(stock_code)\n",
    "\n",
    "pd.DataFrame(stock_change,index=stock_code)"
   ]
  },
  {
   "cell_type": "code",
   "execution_count": 15,
   "id": "e564770e",
   "metadata": {},
   "outputs": [
    {
     "data": {
      "text/plain": [
       "DatetimeIndex(['2019-04-03', '2019-04-04', '2019-04-05', '2019-04-08',\n",
       "               '2019-04-09'],\n",
       "              dtype='datetime64[ns]', freq='B')"
      ]
     },
     "execution_count": 15,
     "metadata": {},
     "output_type": "execute_result"
    }
   ],
   "source": [
    "# 设置列标签，采用pd.date_range()自动生成跳过周末的时间\n",
    "date = pd.date_range(start='20190403',periods=stock_change.shape[1],freq='B')\n",
    "date"
   ]
  },
  {
   "cell_type": "code",
   "execution_count": 17,
   "id": "478b98bb",
   "metadata": {},
   "outputs": [],
   "source": [
    "stock_c = pd.DataFrame(stock_change,index=stock_code, columns=date)"
   ]
  },
  {
   "cell_type": "code",
   "execution_count": 19,
   "id": "0abce4cd-9542-43db-9d49-e8b36bdc90a1",
   "metadata": {},
   "outputs": [
    {
     "data": {
      "text/html": [
       "<div>\n",
       "<style scoped>\n",
       "    .dataframe tbody tr th:only-of-type {\n",
       "        vertical-align: middle;\n",
       "    }\n",
       "\n",
       "    .dataframe tbody tr th {\n",
       "        vertical-align: top;\n",
       "    }\n",
       "\n",
       "    .dataframe thead th {\n",
       "        text-align: right;\n",
       "    }\n",
       "</style>\n",
       "<table border=\"1\" class=\"dataframe\">\n",
       "  <thead>\n",
       "    <tr style=\"text-align: right;\">\n",
       "      <th></th>\n",
       "      <th>2019-04-03</th>\n",
       "      <th>2019-04-04</th>\n",
       "      <th>2019-04-05</th>\n",
       "      <th>2019-04-08</th>\n",
       "      <th>2019-04-09</th>\n",
       "    </tr>\n",
       "  </thead>\n",
       "  <tbody>\n",
       "    <tr>\n",
       "      <th>股票1</th>\n",
       "      <td>0.045360</td>\n",
       "      <td>-0.879325</td>\n",
       "      <td>-0.097255</td>\n",
       "      <td>-0.307545</td>\n",
       "      <td>-1.027239</td>\n",
       "    </tr>\n",
       "    <tr>\n",
       "      <th>股票2</th>\n",
       "      <td>-0.217528</td>\n",
       "      <td>-1.961189</td>\n",
       "      <td>-1.057591</td>\n",
       "      <td>1.352875</td>\n",
       "      <td>2.319493</td>\n",
       "    </tr>\n",
       "    <tr>\n",
       "      <th>股票3</th>\n",
       "      <td>0.627896</td>\n",
       "      <td>0.389947</td>\n",
       "      <td>0.271756</td>\n",
       "      <td>0.871599</td>\n",
       "      <td>-0.886414</td>\n",
       "    </tr>\n",
       "    <tr>\n",
       "      <th>股票4</th>\n",
       "      <td>0.714992</td>\n",
       "      <td>1.008306</td>\n",
       "      <td>-1.330749</td>\n",
       "      <td>-1.363666</td>\n",
       "      <td>-2.229118</td>\n",
       "    </tr>\n",
       "    <tr>\n",
       "      <th>股票5</th>\n",
       "      <td>0.584214</td>\n",
       "      <td>-1.189335</td>\n",
       "      <td>0.833605</td>\n",
       "      <td>-0.998109</td>\n",
       "      <td>1.569595</td>\n",
       "    </tr>\n",
       "  </tbody>\n",
       "</table>\n",
       "</div>"
      ],
      "text/plain": [
       "     2019-04-03  2019-04-04  2019-04-05  2019-04-08  2019-04-09\n",
       "股票1    0.045360   -0.879325   -0.097255   -0.307545   -1.027239\n",
       "股票2   -0.217528   -1.961189   -1.057591    1.352875    2.319493\n",
       "股票3    0.627896    0.389947    0.271756    0.871599   -0.886414\n",
       "股票4    0.714992    1.008306   -1.330749   -1.363666   -2.229118\n",
       "股票5    0.584214   -1.189335    0.833605   -0.998109    1.569595"
      ]
     },
     "execution_count": 19,
     "metadata": {},
     "output_type": "execute_result"
    }
   ],
   "source": [
    "stock_c.head()   # 查看前五行"
   ]
  },
  {
   "cell_type": "code",
   "execution_count": 22,
   "id": "ed9203f7-701e-41ed-853f-568fa9d93d7f",
   "metadata": {},
   "outputs": [
    {
     "data": {
      "text/html": [
       "<div>\n",
       "<style scoped>\n",
       "    .dataframe tbody tr th:only-of-type {\n",
       "        vertical-align: middle;\n",
       "    }\n",
       "\n",
       "    .dataframe tbody tr th {\n",
       "        vertical-align: top;\n",
       "    }\n",
       "\n",
       "    .dataframe thead th {\n",
       "        text-align: right;\n",
       "    }\n",
       "</style>\n",
       "<table border=\"1\" class=\"dataframe\">\n",
       "  <thead>\n",
       "    <tr style=\"text-align: right;\">\n",
       "      <th></th>\n",
       "      <th>2019-04-03</th>\n",
       "      <th>2019-04-04</th>\n",
       "      <th>2019-04-05</th>\n",
       "      <th>2019-04-08</th>\n",
       "      <th>2019-04-09</th>\n",
       "    </tr>\n",
       "  </thead>\n",
       "  <tbody>\n",
       "    <tr>\n",
       "      <th>股票6</th>\n",
       "      <td>0.861078</td>\n",
       "      <td>-0.260173</td>\n",
       "      <td>-0.271758</td>\n",
       "      <td>0.820390</td>\n",
       "      <td>-1.460008</td>\n",
       "    </tr>\n",
       "    <tr>\n",
       "      <th>股票7</th>\n",
       "      <td>-1.515798</td>\n",
       "      <td>1.158569</td>\n",
       "      <td>1.093837</td>\n",
       "      <td>-2.260017</td>\n",
       "      <td>-1.600121</td>\n",
       "    </tr>\n",
       "    <tr>\n",
       "      <th>股票8</th>\n",
       "      <td>0.195258</td>\n",
       "      <td>1.100203</td>\n",
       "      <td>0.045668</td>\n",
       "      <td>-0.070275</td>\n",
       "      <td>-1.684591</td>\n",
       "    </tr>\n",
       "    <tr>\n",
       "      <th>股票9</th>\n",
       "      <td>1.211649</td>\n",
       "      <td>-1.097785</td>\n",
       "      <td>0.650763</td>\n",
       "      <td>-0.024028</td>\n",
       "      <td>2.137680</td>\n",
       "    </tr>\n",
       "    <tr>\n",
       "      <th>股票10</th>\n",
       "      <td>0.471908</td>\n",
       "      <td>0.971677</td>\n",
       "      <td>-0.150222</td>\n",
       "      <td>-0.306794</td>\n",
       "      <td>-0.401718</td>\n",
       "    </tr>\n",
       "  </tbody>\n",
       "</table>\n",
       "</div>"
      ],
      "text/plain": [
       "      2019-04-03  2019-04-04  2019-04-05  2019-04-08  2019-04-09\n",
       "股票6     0.861078   -0.260173   -0.271758    0.820390   -1.460008\n",
       "股票7    -1.515798    1.158569    1.093837   -2.260017   -1.600121\n",
       "股票8     0.195258    1.100203    0.045668   -0.070275   -1.684591\n",
       "股票9     1.211649   -1.097785    0.650763   -0.024028    2.137680\n",
       "股票10    0.471908    0.971677   -0.150222   -0.306794   -0.401718"
      ]
     },
     "execution_count": 22,
     "metadata": {},
     "output_type": "execute_result"
    }
   ],
   "source": [
    "stock_c.tail()   # 查看后五行"
   ]
  },
  {
   "cell_type": "code",
   "execution_count": 25,
   "id": "c4d3249d-721d-489a-8402-2a8d33702c6f",
   "metadata": {},
   "outputs": [
    {
     "data": {
      "text/plain": [
       "np.float64(0.8610781860717629)"
      ]
     },
     "execution_count": 25,
     "metadata": {},
     "output_type": "execute_result"
    }
   ],
   "source": [
    "# 不可以先行后列\n",
    "# stock_c['股票6']['2019-04-03']\n",
    "stock_c['2019-04-03']['股票6']"
   ]
  },
  {
   "cell_type": "code",
   "execution_count": 26,
   "id": "5173973b-d82b-4b80-b101-7679aab80654",
   "metadata": {},
   "outputs": [
    {
     "data": {
      "text/html": [
       "<div>\n",
       "<style scoped>\n",
       "    .dataframe tbody tr th:only-of-type {\n",
       "        vertical-align: middle;\n",
       "    }\n",
       "\n",
       "    .dataframe tbody tr th {\n",
       "        vertical-align: top;\n",
       "    }\n",
       "\n",
       "    .dataframe thead th {\n",
       "        text-align: right;\n",
       "    }\n",
       "</style>\n",
       "<table border=\"1\" class=\"dataframe\">\n",
       "  <thead>\n",
       "    <tr style=\"text-align: right;\">\n",
       "      <th></th>\n",
       "      <th>2019-04-03</th>\n",
       "      <th>2019-04-04</th>\n",
       "      <th>2019-04-05</th>\n",
       "      <th>2019-04-08</th>\n",
       "      <th>2019-04-09</th>\n",
       "    </tr>\n",
       "  </thead>\n",
       "  <tbody>\n",
       "    <tr>\n",
       "      <th>count</th>\n",
       "      <td>10.000000</td>\n",
       "      <td>10.000000</td>\n",
       "      <td>10.000000</td>\n",
       "      <td>10.000000</td>\n",
       "      <td>10.000000</td>\n",
       "    </tr>\n",
       "    <tr>\n",
       "      <th>mean</th>\n",
       "      <td>0.297903</td>\n",
       "      <td>-0.075911</td>\n",
       "      <td>-0.001195</td>\n",
       "      <td>-0.228557</td>\n",
       "      <td>-0.326244</td>\n",
       "    </tr>\n",
       "    <tr>\n",
       "      <th>std</th>\n",
       "      <td>0.758412</td>\n",
       "      <td>1.150595</td>\n",
       "      <td>0.773596</td>\n",
       "      <td>1.100420</td>\n",
       "      <td>1.694768</td>\n",
       "    </tr>\n",
       "    <tr>\n",
       "      <th>min</th>\n",
       "      <td>-1.515798</td>\n",
       "      <td>-1.961189</td>\n",
       "      <td>-1.330749</td>\n",
       "      <td>-2.260017</td>\n",
       "      <td>-2.229118</td>\n",
       "    </tr>\n",
       "    <tr>\n",
       "      <th>25%</th>\n",
       "      <td>0.082835</td>\n",
       "      <td>-1.043170</td>\n",
       "      <td>-0.241374</td>\n",
       "      <td>-0.825468</td>\n",
       "      <td>-1.565093</td>\n",
       "    </tr>\n",
       "    <tr>\n",
       "      <th>50%</th>\n",
       "      <td>0.528061</td>\n",
       "      <td>0.064887</td>\n",
       "      <td>-0.025794</td>\n",
       "      <td>-0.188534</td>\n",
       "      <td>-0.956827</td>\n",
       "    </tr>\n",
       "    <tr>\n",
       "      <th>75%</th>\n",
       "      <td>0.693218</td>\n",
       "      <td>0.999149</td>\n",
       "      <td>0.556011</td>\n",
       "      <td>0.609286</td>\n",
       "      <td>1.076767</td>\n",
       "    </tr>\n",
       "    <tr>\n",
       "      <th>max</th>\n",
       "      <td>1.211649</td>\n",
       "      <td>1.158569</td>\n",
       "      <td>1.093837</td>\n",
       "      <td>1.352875</td>\n",
       "      <td>2.319493</td>\n",
       "    </tr>\n",
       "  </tbody>\n",
       "</table>\n",
       "</div>"
      ],
      "text/plain": [
       "       2019-04-03  2019-04-04  2019-04-05  2019-04-08  2019-04-09\n",
       "count   10.000000   10.000000   10.000000   10.000000   10.000000\n",
       "mean     0.297903   -0.075911   -0.001195   -0.228557   -0.326244\n",
       "std      0.758412    1.150595    0.773596    1.100420    1.694768\n",
       "min     -1.515798   -1.961189   -1.330749   -2.260017   -2.229118\n",
       "25%      0.082835   -1.043170   -0.241374   -0.825468   -1.565093\n",
       "50%      0.528061    0.064887   -0.025794   -0.188534   -0.956827\n",
       "75%      0.693218    0.999149    0.556011    0.609286    1.076767\n",
       "max      1.211649    1.158569    1.093837    1.352875    2.319493"
      ]
     },
     "execution_count": 26,
     "metadata": {},
     "output_type": "execute_result"
    }
   ],
   "source": [
    "stock_c.describe()"
   ]
  }
 ],
 "metadata": {
  "kernelspec": {
   "display_name": "Python 3 (ipykernel)",
   "language": "python",
   "name": "python3"
  },
  "language_info": {
   "codemirror_mode": {
    "name": "ipython",
    "version": 3
   },
   "file_extension": ".py",
   "mimetype": "text/x-python",
   "name": "python",
   "nbconvert_exporter": "python",
   "pygments_lexer": "ipython3",
   "version": "3.10.1"
  }
 },
 "nbformat": 4,
 "nbformat_minor": 5
}
