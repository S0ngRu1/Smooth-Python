{
 "cells": [
  {
   "cell_type": "markdown",
   "id": "4ee97ef4",
   "metadata": {},
   "source": [
    "numpy与list运算效率比较"
   ]
  },
  {
   "cell_type": "code",
   "execution_count": 1,
   "id": "2f01ab53a1c7e96a",
   "metadata": {},
   "outputs": [
    {
     "name": "stdout",
     "output_type": "stream",
     "text": [
      "CPU times: user 414 μs, sys: 50 μs, total: 464 μs\n",
      "Wall time: 465 μs\n",
      "CPU times: user 172 μs, sys: 21 μs, total: 193 μs\n",
      "Wall time: 196 μs\n"
     ]
    }
   ],
   "source": [
    "import random\n",
    "import time\n",
    "import numpy as np\n",
    "\n",
    "a = []\n",
    "for i in range(100000):\n",
    "    a.append(random.random())\n",
    "\n",
    "# %time 是 IPython 环境（如 Jupyter Notebook、JupyterLab 或 IPython 终端）中的魔术命令，用于测量代码执行时间。\n",
    "%time sum1 = sum(a)\n",
    "\n",
    "b = np.array(a)\n",
    "%time sum2 = np.sum(b)\n"
   ]
  },
  {
   "cell_type": "code",
   "execution_count": 2,
   "id": "0ff41be1",
   "metadata": {},
   "outputs": [
    {
     "data": {
      "text/plain": [
       "array([1., 1., 1., 1., 1., 1., 1., 1., 1., 1.])"
      ]
     },
     "execution_count": 2,
     "metadata": {},
     "output_type": "execute_result"
    }
   ],
   "source": [
    "import numpy as np\n",
    "np.ones(10)"
   ]
  },
  {
   "cell_type": "code",
   "execution_count": 3,
   "id": "034c90ac",
   "metadata": {},
   "outputs": [
    {
     "data": {
      "text/plain": [
       "array([[1., 1., 1.],\n",
       "       [1., 1., 1.]])"
      ]
     },
     "execution_count": 3,
     "metadata": {},
     "output_type": "execute_result"
    }
   ],
   "source": [
    "import numpy as np\n",
    "np.ones([2,3])"
   ]
  },
  {
   "cell_type": "code",
   "execution_count": 4,
   "id": "cb437c23",
   "metadata": {},
   "outputs": [
    {
     "data": {
      "text/plain": [
       "array([[0., 0., 0.],\n",
       "       [0., 0., 0.]])"
      ]
     },
     "execution_count": 4,
     "metadata": {},
     "output_type": "execute_result"
    }
   ],
   "source": [
    "np.zeros_like(np.ones([2,3]))"
   ]
  },
  {
   "cell_type": "code",
   "execution_count": 5,
   "id": "5694f7ee",
   "metadata": {},
   "outputs": [
    {
     "name": "stdout",
     "output_type": "stream",
     "text": [
      "6\n",
      "[[1 2]\n",
      " [5 6]]\n",
      "[0 4 8]\n"
     ]
    }
   ],
   "source": [
    "arr = np.arange(12).reshape(3, 4)  # 3行4列数组：[[0,1,2,3],[4,5,6,7],[8,9,10,11]]\n",
    "\n",
    "# 索引\n",
    "print(arr[1, 2])  # 第2行第3列：6\n",
    "\n",
    "# 切片（取第1-2行，第2-3列）\n",
    "print(arr[0:2, 1:3])  # [[1,2], [5,6]]\n",
    "\n",
    "# 省略号（...）表示剩余维度全取\n",
    "print(arr[..., 0])  # 取所有行的第1列：[0,4,8]"
   ]
  },
  {
   "cell_type": "code",
   "execution_count": 6,
   "id": "6cf0298c",
   "metadata": {},
   "outputs": [
    {
     "name": "stdout",
     "output_type": "stream",
     "text": [
      "False\n",
      "True\n",
      "True\n",
      "False\n",
      "[[ 0  1  2  3]\n",
      " [ 4  5  6  7]\n",
      " [ 8  9 10 11]]\n",
      "[[200   1   2   3]\n",
      " [  4   5   6   7]\n",
      " [  8   9  10  11]]\n",
      "[[300   1   2   3]\n",
      " [  4   5   6   7]\n",
      " [  8   9  10  11]]\n"
     ]
    }
   ],
   "source": [
    "arr = np.arange(12).reshape(3, 4)\n",
    "arr1 = np.array(arr)\n",
    "arr2 = np.asarray(arr)\n",
    "print(arr1 is arr)  # False，arr1是新数组\n",
    "print(arr2 is arr)  # False，arr2是新数组\n",
    "arr3 = np.array(arr, copy=False)\n",
    "print(arr3 is arr)  # True，arr3是视图，没有复制数据\n",
    "arr4  = np.array(arr, copy=True)\n",
    "print(arr4 is arr)  # False，arr4是新数组\n",
    "arr1[0,0] = 100\n",
    "print(arr)  # arr未变，arr1是新数组（深拷贝）\n",
    "arr3[0,0] = 200\n",
    "print(arr)  # arr变了，arr3是视图（浅拷贝）\n",
    "arr2[0,0] = 300\n",
    "print(arr)  # arr变了，arr2是视图(浅拷贝)"
   ]
  },
  {
   "cell_type": "code",
   "execution_count": 7,
   "id": "5c04b7ca",
   "metadata": {},
   "outputs": [
    {
     "data": {
      "text/plain": [
       "array([ 1.,  2.,  3.,  4.,  5.,  6.,  7.,  8.,  9., 10.])"
      ]
     },
     "execution_count": 7,
     "metadata": {},
     "output_type": "execute_result"
    }
   ],
   "source": [
    "np.linspace(1,10,10)  # 1到10之间均匀取10个数"
   ]
  },
  {
   "cell_type": "code",
   "execution_count": 8,
   "id": "da0bd90f",
   "metadata": {},
   "outputs": [
    {
     "data": {
      "text/plain": [
       "array([1.e+01, 1.e+02, 1.e+03, 1.e+04, 1.e+05, 1.e+06, 1.e+07, 1.e+08,\n",
       "       1.e+09, 1.e+10])"
      ]
     },
     "execution_count": 8,
     "metadata": {},
     "output_type": "execute_result"
    }
   ],
   "source": [
    "np.logspace(1,10,10)  # 10的1次方到10的10次方之间均匀取10个数"
   ]
  },
  {
   "cell_type": "code",
   "execution_count": 9,
   "id": "d4888bbc",
   "metadata": {},
   "outputs": [
    {
     "name": "stdout",
     "output_type": "stream",
     "text": [
      "[0.45390105 3.66739296 5.60306978 4.75425302]\n"
     ]
    }
   ],
   "source": [
    "import numpy as np\n",
    "# 生成均值为5，标准差为2的4个正态分布随机数\n",
    "normal_arr = np.random.normal(loc=5, scale=2, size=4)\n",
    "print(normal_arr)"
   ]
  },
  {
   "cell_type": "code",
   "execution_count": 10,
   "id": "5b02c130",
   "metadata": {},
   "outputs": [
    {
     "name": "stdout",
     "output_type": "stream",
     "text": [
      "[[ 0.98699445  0.78578717 -1.9615979  -0.49291191]\n",
      " [-0.32875681  0.37422451 -0.07462686 -0.1158063 ]\n",
      " [ 0.10098245 -1.07603792  0.75625298 -0.04674358]\n",
      " ...\n",
      " [-0.30177717  0.19183955 -1.19645464  0.18865996]\n",
      " [-0.38493619  1.05539145 -1.36810386 -1.35941174]\n",
      " [-1.1322278  -1.61185035 -0.49862508 -0.83821294]]\n"
     ]
    },
    {
     "data": {
      "text/plain": [
       "(1000, 4)"
      ]
     },
     "execution_count": 10,
     "metadata": {},
     "output_type": "execute_result"
    }
   ],
   "source": [
    "import numpy as np\n",
    "stock_change = np.random.normal(0, 1, (1000, 4))  # 1000天，4只股票的日收益率\n",
    "print(stock_change)\n",
    "\n",
    "stock_change.shape\n"
   ]
  },
  {
   "cell_type": "code",
   "execution_count": 11,
   "id": "92b6ce8c",
   "metadata": {},
   "outputs": [
    {
     "name": "stdout",
     "output_type": "stream",
     "text": [
      "(10, 5)\n"
     ]
    },
    {
     "data": {
      "text/plain": [
       "array([[-1.31001961,  1.53725825,  0.38717232, -0.34800767,  0.41232315],\n",
       "       [ 0.83059097, -1.32471594, -0.65241856,  1.33579272,  1.06508412],\n",
       "       [ 0.77623719, -1.39260418, -0.4269007 , -0.72825267, -0.17371486],\n",
       "       [-1.35138094, -0.68450423, -0.23271512, -0.96874666, -0.47812174],\n",
       "       [-1.49475858, -0.82374337,  1.31945802,  0.89619489, -0.12421549],\n",
       "       [-0.17831405,  1.11355738, -1.66347312, -0.81974514, -0.04500139],\n",
       "       [ 1.93821788,  0.03329185, -0.37862492, -0.46802851, -1.91995935],\n",
       "       [-1.04922488, -0.72157161,  1.16639364,  1.16138387,  0.59382856],\n",
       "       [ 0.97896743,  1.90259468,  1.37001959, -0.52165996,  0.76743382],\n",
       "       [ 0.77390893,  2.15090521,  1.11982028,  1.68987902,  0.45456516]])"
      ]
     },
     "execution_count": 11,
     "metadata": {},
     "output_type": "execute_result"
    }
   ],
   "source": [
    "# 随机生成正态分布数据，10天，5只股票\n",
    "import numpy as np\n",
    "stock_change = np.random.normal(0,1,(10,5))\n",
    "print(stock_change.shape)\n",
    "stock_change"
   ]
  },
  {
   "cell_type": "code",
   "execution_count": 12,
   "id": "7ce41ff4",
   "metadata": {},
   "outputs": [
    {
     "data": {
      "text/html": [
       "<div>\n",
       "<style scoped>\n",
       "    .dataframe tbody tr th:only-of-type {\n",
       "        vertical-align: middle;\n",
       "    }\n",
       "\n",
       "    .dataframe tbody tr th {\n",
       "        vertical-align: top;\n",
       "    }\n",
       "\n",
       "    .dataframe thead th {\n",
       "        text-align: right;\n",
       "    }\n",
       "</style>\n",
       "<table border=\"1\" class=\"dataframe\">\n",
       "  <thead>\n",
       "    <tr style=\"text-align: right;\">\n",
       "      <th></th>\n",
       "      <th>0</th>\n",
       "      <th>1</th>\n",
       "      <th>2</th>\n",
       "      <th>3</th>\n",
       "      <th>4</th>\n",
       "    </tr>\n",
       "  </thead>\n",
       "  <tbody>\n",
       "    <tr>\n",
       "      <th>0</th>\n",
       "      <td>-1.310020</td>\n",
       "      <td>1.537258</td>\n",
       "      <td>0.387172</td>\n",
       "      <td>-0.348008</td>\n",
       "      <td>0.412323</td>\n",
       "    </tr>\n",
       "    <tr>\n",
       "      <th>1</th>\n",
       "      <td>0.830591</td>\n",
       "      <td>-1.324716</td>\n",
       "      <td>-0.652419</td>\n",
       "      <td>1.335793</td>\n",
       "      <td>1.065084</td>\n",
       "    </tr>\n",
       "    <tr>\n",
       "      <th>2</th>\n",
       "      <td>0.776237</td>\n",
       "      <td>-1.392604</td>\n",
       "      <td>-0.426901</td>\n",
       "      <td>-0.728253</td>\n",
       "      <td>-0.173715</td>\n",
       "    </tr>\n",
       "    <tr>\n",
       "      <th>3</th>\n",
       "      <td>-1.351381</td>\n",
       "      <td>-0.684504</td>\n",
       "      <td>-0.232715</td>\n",
       "      <td>-0.968747</td>\n",
       "      <td>-0.478122</td>\n",
       "    </tr>\n",
       "    <tr>\n",
       "      <th>4</th>\n",
       "      <td>-1.494759</td>\n",
       "      <td>-0.823743</td>\n",
       "      <td>1.319458</td>\n",
       "      <td>0.896195</td>\n",
       "      <td>-0.124215</td>\n",
       "    </tr>\n",
       "    <tr>\n",
       "      <th>5</th>\n",
       "      <td>-0.178314</td>\n",
       "      <td>1.113557</td>\n",
       "      <td>-1.663473</td>\n",
       "      <td>-0.819745</td>\n",
       "      <td>-0.045001</td>\n",
       "    </tr>\n",
       "    <tr>\n",
       "      <th>6</th>\n",
       "      <td>1.938218</td>\n",
       "      <td>0.033292</td>\n",
       "      <td>-0.378625</td>\n",
       "      <td>-0.468029</td>\n",
       "      <td>-1.919959</td>\n",
       "    </tr>\n",
       "    <tr>\n",
       "      <th>7</th>\n",
       "      <td>-1.049225</td>\n",
       "      <td>-0.721572</td>\n",
       "      <td>1.166394</td>\n",
       "      <td>1.161384</td>\n",
       "      <td>0.593829</td>\n",
       "    </tr>\n",
       "    <tr>\n",
       "      <th>8</th>\n",
       "      <td>0.978967</td>\n",
       "      <td>1.902595</td>\n",
       "      <td>1.370020</td>\n",
       "      <td>-0.521660</td>\n",
       "      <td>0.767434</td>\n",
       "    </tr>\n",
       "    <tr>\n",
       "      <th>9</th>\n",
       "      <td>0.773909</td>\n",
       "      <td>2.150905</td>\n",
       "      <td>1.119820</td>\n",
       "      <td>1.689879</td>\n",
       "      <td>0.454565</td>\n",
       "    </tr>\n",
       "  </tbody>\n",
       "</table>\n",
       "</div>"
      ],
      "text/plain": [
       "          0         1         2         3         4\n",
       "0 -1.310020  1.537258  0.387172 -0.348008  0.412323\n",
       "1  0.830591 -1.324716 -0.652419  1.335793  1.065084\n",
       "2  0.776237 -1.392604 -0.426901 -0.728253 -0.173715\n",
       "3 -1.351381 -0.684504 -0.232715 -0.968747 -0.478122\n",
       "4 -1.494759 -0.823743  1.319458  0.896195 -0.124215\n",
       "5 -0.178314  1.113557 -1.663473 -0.819745 -0.045001\n",
       "6  1.938218  0.033292 -0.378625 -0.468029 -1.919959\n",
       "7 -1.049225 -0.721572  1.166394  1.161384  0.593829\n",
       "8  0.978967  1.902595  1.370020 -0.521660  0.767434\n",
       "9  0.773909  2.150905  1.119820  1.689879  0.454565"
      ]
     },
     "execution_count": 12,
     "metadata": {},
     "output_type": "execute_result"
    }
   ],
   "source": [
    "# pandas\n",
    "import pandas as pd\n",
    "pd.DataFrame(stock_change)"
   ]
  },
  {
   "cell_type": "code",
   "execution_count": 13,
   "id": "7e147a43",
   "metadata": {},
   "outputs": [
    {
     "name": "stdout",
     "output_type": "stream",
     "text": [
      "['股票1', '股票2', '股票3', '股票4', '股票5', '股票6', '股票7', '股票8', '股票9', '股票10']\n"
     ]
    },
    {
     "data": {
      "text/html": [
       "<div>\n",
       "<style scoped>\n",
       "    .dataframe tbody tr th:only-of-type {\n",
       "        vertical-align: middle;\n",
       "    }\n",
       "\n",
       "    .dataframe tbody tr th {\n",
       "        vertical-align: top;\n",
       "    }\n",
       "\n",
       "    .dataframe thead th {\n",
       "        text-align: right;\n",
       "    }\n",
       "</style>\n",
       "<table border=\"1\" class=\"dataframe\">\n",
       "  <thead>\n",
       "    <tr style=\"text-align: right;\">\n",
       "      <th></th>\n",
       "      <th>0</th>\n",
       "      <th>1</th>\n",
       "      <th>2</th>\n",
       "      <th>3</th>\n",
       "      <th>4</th>\n",
       "    </tr>\n",
       "  </thead>\n",
       "  <tbody>\n",
       "    <tr>\n",
       "      <th>股票1</th>\n",
       "      <td>-1.310020</td>\n",
       "      <td>1.537258</td>\n",
       "      <td>0.387172</td>\n",
       "      <td>-0.348008</td>\n",
       "      <td>0.412323</td>\n",
       "    </tr>\n",
       "    <tr>\n",
       "      <th>股票2</th>\n",
       "      <td>0.830591</td>\n",
       "      <td>-1.324716</td>\n",
       "      <td>-0.652419</td>\n",
       "      <td>1.335793</td>\n",
       "      <td>1.065084</td>\n",
       "    </tr>\n",
       "    <tr>\n",
       "      <th>股票3</th>\n",
       "      <td>0.776237</td>\n",
       "      <td>-1.392604</td>\n",
       "      <td>-0.426901</td>\n",
       "      <td>-0.728253</td>\n",
       "      <td>-0.173715</td>\n",
       "    </tr>\n",
       "    <tr>\n",
       "      <th>股票4</th>\n",
       "      <td>-1.351381</td>\n",
       "      <td>-0.684504</td>\n",
       "      <td>-0.232715</td>\n",
       "      <td>-0.968747</td>\n",
       "      <td>-0.478122</td>\n",
       "    </tr>\n",
       "    <tr>\n",
       "      <th>股票5</th>\n",
       "      <td>-1.494759</td>\n",
       "      <td>-0.823743</td>\n",
       "      <td>1.319458</td>\n",
       "      <td>0.896195</td>\n",
       "      <td>-0.124215</td>\n",
       "    </tr>\n",
       "    <tr>\n",
       "      <th>股票6</th>\n",
       "      <td>-0.178314</td>\n",
       "      <td>1.113557</td>\n",
       "      <td>-1.663473</td>\n",
       "      <td>-0.819745</td>\n",
       "      <td>-0.045001</td>\n",
       "    </tr>\n",
       "    <tr>\n",
       "      <th>股票7</th>\n",
       "      <td>1.938218</td>\n",
       "      <td>0.033292</td>\n",
       "      <td>-0.378625</td>\n",
       "      <td>-0.468029</td>\n",
       "      <td>-1.919959</td>\n",
       "    </tr>\n",
       "    <tr>\n",
       "      <th>股票8</th>\n",
       "      <td>-1.049225</td>\n",
       "      <td>-0.721572</td>\n",
       "      <td>1.166394</td>\n",
       "      <td>1.161384</td>\n",
       "      <td>0.593829</td>\n",
       "    </tr>\n",
       "    <tr>\n",
       "      <th>股票9</th>\n",
       "      <td>0.978967</td>\n",
       "      <td>1.902595</td>\n",
       "      <td>1.370020</td>\n",
       "      <td>-0.521660</td>\n",
       "      <td>0.767434</td>\n",
       "    </tr>\n",
       "    <tr>\n",
       "      <th>股票10</th>\n",
       "      <td>0.773909</td>\n",
       "      <td>2.150905</td>\n",
       "      <td>1.119820</td>\n",
       "      <td>1.689879</td>\n",
       "      <td>0.454565</td>\n",
       "    </tr>\n",
       "  </tbody>\n",
       "</table>\n",
       "</div>"
      ],
      "text/plain": [
       "             0         1         2         3         4\n",
       "股票1  -1.310020  1.537258  0.387172 -0.348008  0.412323\n",
       "股票2   0.830591 -1.324716 -0.652419  1.335793  1.065084\n",
       "股票3   0.776237 -1.392604 -0.426901 -0.728253 -0.173715\n",
       "股票4  -1.351381 -0.684504 -0.232715 -0.968747 -0.478122\n",
       "股票5  -1.494759 -0.823743  1.319458  0.896195 -0.124215\n",
       "股票6  -0.178314  1.113557 -1.663473 -0.819745 -0.045001\n",
       "股票7   1.938218  0.033292 -0.378625 -0.468029 -1.919959\n",
       "股票8  -1.049225 -0.721572  1.166394  1.161384  0.593829\n",
       "股票9   0.978967  1.902595  1.370020 -0.521660  0.767434\n",
       "股票10  0.773909  2.150905  1.119820  1.689879  0.454565"
      ]
     },
     "execution_count": 13,
     "metadata": {},
     "output_type": "execute_result"
    }
   ],
   "source": [
    "# 添加行列标签\n",
    "stock_code = [f'股票{i+1}' for i in range(stock_change.shape[0])]\n",
    "print(stock_code)\n",
    "\n",
    "pd.DataFrame(stock_change,index=stock_code)"
   ]
  },
  {
   "cell_type": "code",
   "execution_count": 14,
   "id": "e564770e",
   "metadata": {},
   "outputs": [
    {
     "data": {
      "text/plain": [
       "DatetimeIndex(['2019-04-03', '2019-04-04', '2019-04-05', '2019-04-08',\n",
       "               '2019-04-09'],\n",
       "              dtype='datetime64[ns]', freq='B')"
      ]
     },
     "execution_count": 14,
     "metadata": {},
     "output_type": "execute_result"
    }
   ],
   "source": [
    "# 设置列标签，采用pd.date_range()自动生成跳过周末的时间\n",
    "date = pd.date_range(start='20190403',periods=stock_change.shape[1],freq='B')\n",
    "date"
   ]
  },
  {
   "cell_type": "code",
   "execution_count": 15,
   "id": "478b98bb",
   "metadata": {},
   "outputs": [],
   "source": [
    "stock_c = pd.DataFrame(stock_change,index=stock_code, columns=date)"
   ]
  },
  {
   "cell_type": "code",
   "execution_count": 16,
   "id": "0abce4cd-9542-43db-9d49-e8b36bdc90a1",
   "metadata": {},
   "outputs": [
    {
     "data": {
      "text/html": [
       "<div>\n",
       "<style scoped>\n",
       "    .dataframe tbody tr th:only-of-type {\n",
       "        vertical-align: middle;\n",
       "    }\n",
       "\n",
       "    .dataframe tbody tr th {\n",
       "        vertical-align: top;\n",
       "    }\n",
       "\n",
       "    .dataframe thead th {\n",
       "        text-align: right;\n",
       "    }\n",
       "</style>\n",
       "<table border=\"1\" class=\"dataframe\">\n",
       "  <thead>\n",
       "    <tr style=\"text-align: right;\">\n",
       "      <th></th>\n",
       "      <th>2019-04-03</th>\n",
       "      <th>2019-04-04</th>\n",
       "      <th>2019-04-05</th>\n",
       "      <th>2019-04-08</th>\n",
       "      <th>2019-04-09</th>\n",
       "    </tr>\n",
       "  </thead>\n",
       "  <tbody>\n",
       "    <tr>\n",
       "      <th>股票1</th>\n",
       "      <td>-1.310020</td>\n",
       "      <td>1.537258</td>\n",
       "      <td>0.387172</td>\n",
       "      <td>-0.348008</td>\n",
       "      <td>0.412323</td>\n",
       "    </tr>\n",
       "    <tr>\n",
       "      <th>股票2</th>\n",
       "      <td>0.830591</td>\n",
       "      <td>-1.324716</td>\n",
       "      <td>-0.652419</td>\n",
       "      <td>1.335793</td>\n",
       "      <td>1.065084</td>\n",
       "    </tr>\n",
       "    <tr>\n",
       "      <th>股票3</th>\n",
       "      <td>0.776237</td>\n",
       "      <td>-1.392604</td>\n",
       "      <td>-0.426901</td>\n",
       "      <td>-0.728253</td>\n",
       "      <td>-0.173715</td>\n",
       "    </tr>\n",
       "    <tr>\n",
       "      <th>股票4</th>\n",
       "      <td>-1.351381</td>\n",
       "      <td>-0.684504</td>\n",
       "      <td>-0.232715</td>\n",
       "      <td>-0.968747</td>\n",
       "      <td>-0.478122</td>\n",
       "    </tr>\n",
       "    <tr>\n",
       "      <th>股票5</th>\n",
       "      <td>-1.494759</td>\n",
       "      <td>-0.823743</td>\n",
       "      <td>1.319458</td>\n",
       "      <td>0.896195</td>\n",
       "      <td>-0.124215</td>\n",
       "    </tr>\n",
       "  </tbody>\n",
       "</table>\n",
       "</div>"
      ],
      "text/plain": [
       "     2019-04-03  2019-04-04  2019-04-05  2019-04-08  2019-04-09\n",
       "股票1   -1.310020    1.537258    0.387172   -0.348008    0.412323\n",
       "股票2    0.830591   -1.324716   -0.652419    1.335793    1.065084\n",
       "股票3    0.776237   -1.392604   -0.426901   -0.728253   -0.173715\n",
       "股票4   -1.351381   -0.684504   -0.232715   -0.968747   -0.478122\n",
       "股票5   -1.494759   -0.823743    1.319458    0.896195   -0.124215"
      ]
     },
     "execution_count": 16,
     "metadata": {},
     "output_type": "execute_result"
    }
   ],
   "source": [
    "stock_c.head()   # 查看前五行"
   ]
  },
  {
   "cell_type": "code",
   "execution_count": 17,
   "id": "ed9203f7-701e-41ed-853f-568fa9d93d7f",
   "metadata": {},
   "outputs": [
    {
     "data": {
      "text/html": [
       "<div>\n",
       "<style scoped>\n",
       "    .dataframe tbody tr th:only-of-type {\n",
       "        vertical-align: middle;\n",
       "    }\n",
       "\n",
       "    .dataframe tbody tr th {\n",
       "        vertical-align: top;\n",
       "    }\n",
       "\n",
       "    .dataframe thead th {\n",
       "        text-align: right;\n",
       "    }\n",
       "</style>\n",
       "<table border=\"1\" class=\"dataframe\">\n",
       "  <thead>\n",
       "    <tr style=\"text-align: right;\">\n",
       "      <th></th>\n",
       "      <th>2019-04-03</th>\n",
       "      <th>2019-04-04</th>\n",
       "      <th>2019-04-05</th>\n",
       "      <th>2019-04-08</th>\n",
       "      <th>2019-04-09</th>\n",
       "    </tr>\n",
       "  </thead>\n",
       "  <tbody>\n",
       "    <tr>\n",
       "      <th>股票6</th>\n",
       "      <td>-0.178314</td>\n",
       "      <td>1.113557</td>\n",
       "      <td>-1.663473</td>\n",
       "      <td>-0.819745</td>\n",
       "      <td>-0.045001</td>\n",
       "    </tr>\n",
       "    <tr>\n",
       "      <th>股票7</th>\n",
       "      <td>1.938218</td>\n",
       "      <td>0.033292</td>\n",
       "      <td>-0.378625</td>\n",
       "      <td>-0.468029</td>\n",
       "      <td>-1.919959</td>\n",
       "    </tr>\n",
       "    <tr>\n",
       "      <th>股票8</th>\n",
       "      <td>-1.049225</td>\n",
       "      <td>-0.721572</td>\n",
       "      <td>1.166394</td>\n",
       "      <td>1.161384</td>\n",
       "      <td>0.593829</td>\n",
       "    </tr>\n",
       "    <tr>\n",
       "      <th>股票9</th>\n",
       "      <td>0.978967</td>\n",
       "      <td>1.902595</td>\n",
       "      <td>1.370020</td>\n",
       "      <td>-0.521660</td>\n",
       "      <td>0.767434</td>\n",
       "    </tr>\n",
       "    <tr>\n",
       "      <th>股票10</th>\n",
       "      <td>0.773909</td>\n",
       "      <td>2.150905</td>\n",
       "      <td>1.119820</td>\n",
       "      <td>1.689879</td>\n",
       "      <td>0.454565</td>\n",
       "    </tr>\n",
       "  </tbody>\n",
       "</table>\n",
       "</div>"
      ],
      "text/plain": [
       "      2019-04-03  2019-04-04  2019-04-05  2019-04-08  2019-04-09\n",
       "股票6    -0.178314    1.113557   -1.663473   -0.819745   -0.045001\n",
       "股票7     1.938218    0.033292   -0.378625   -0.468029   -1.919959\n",
       "股票8    -1.049225   -0.721572    1.166394    1.161384    0.593829\n",
       "股票9     0.978967    1.902595    1.370020   -0.521660    0.767434\n",
       "股票10    0.773909    2.150905    1.119820    1.689879    0.454565"
      ]
     },
     "execution_count": 17,
     "metadata": {},
     "output_type": "execute_result"
    }
   ],
   "source": [
    "stock_c.tail()   # 查看后五行"
   ]
  },
  {
   "cell_type": "code",
   "execution_count": 18,
   "id": "c4d3249d-721d-489a-8402-2a8d33702c6f",
   "metadata": {},
   "outputs": [
    {
     "data": {
      "text/plain": [
       "np.float64(-0.1783140470059152)"
      ]
     },
     "execution_count": 18,
     "metadata": {},
     "output_type": "execute_result"
    }
   ],
   "source": [
    "# 不可以先行后列\n",
    "# stock_c['股票6']['2019-04-03']\n",
    "stock_c['2019-04-03']['股票6']"
   ]
  },
  {
   "cell_type": "code",
   "execution_count": 19,
   "id": "5173973b-d82b-4b80-b101-7679aab80654",
   "metadata": {},
   "outputs": [
    {
     "data": {
      "text/html": [
       "<div>\n",
       "<style scoped>\n",
       "    .dataframe tbody tr th:only-of-type {\n",
       "        vertical-align: middle;\n",
       "    }\n",
       "\n",
       "    .dataframe tbody tr th {\n",
       "        vertical-align: top;\n",
       "    }\n",
       "\n",
       "    .dataframe thead th {\n",
       "        text-align: right;\n",
       "    }\n",
       "</style>\n",
       "<table border=\"1\" class=\"dataframe\">\n",
       "  <thead>\n",
       "    <tr style=\"text-align: right;\">\n",
       "      <th></th>\n",
       "      <th>2019-04-03</th>\n",
       "      <th>2019-04-04</th>\n",
       "      <th>2019-04-05</th>\n",
       "      <th>2019-04-08</th>\n",
       "      <th>2019-04-09</th>\n",
       "    </tr>\n",
       "  </thead>\n",
       "  <tbody>\n",
       "    <tr>\n",
       "      <th>count</th>\n",
       "      <td>10.000000</td>\n",
       "      <td>10.000000</td>\n",
       "      <td>10.000000</td>\n",
       "      <td>10.000000</td>\n",
       "      <td>10.000000</td>\n",
       "    </tr>\n",
       "    <tr>\n",
       "      <th>mean</th>\n",
       "      <td>-0.008578</td>\n",
       "      <td>0.179047</td>\n",
       "      <td>0.200873</td>\n",
       "      <td>0.122881</td>\n",
       "      <td>0.055222</td>\n",
       "    </tr>\n",
       "    <tr>\n",
       "      <th>std</th>\n",
       "      <td>1.225427</td>\n",
       "      <td>1.369994</td>\n",
       "      <td>1.030175</td>\n",
       "      <td>1.021660</td>\n",
       "      <td>0.842260</td>\n",
       "    </tr>\n",
       "    <tr>\n",
       "      <th>min</th>\n",
       "      <td>-1.494759</td>\n",
       "      <td>-1.392604</td>\n",
       "      <td>-1.663473</td>\n",
       "      <td>-0.968747</td>\n",
       "      <td>-1.919959</td>\n",
       "    </tr>\n",
       "    <tr>\n",
       "      <th>25%</th>\n",
       "      <td>-1.244821</td>\n",
       "      <td>-0.798200</td>\n",
       "      <td>-0.414832</td>\n",
       "      <td>-0.676604</td>\n",
       "      <td>-0.161340</td>\n",
       "    </tr>\n",
       "    <tr>\n",
       "      <th>50%</th>\n",
       "      <td>0.297797</td>\n",
       "      <td>-0.325606</td>\n",
       "      <td>0.077229</td>\n",
       "      <td>-0.408018</td>\n",
       "      <td>0.183661</td>\n",
       "    </tr>\n",
       "    <tr>\n",
       "      <th>75%</th>\n",
       "      <td>0.817003</td>\n",
       "      <td>1.431333</td>\n",
       "      <td>1.154750</td>\n",
       "      <td>1.095087</td>\n",
       "      <td>0.559013</td>\n",
       "    </tr>\n",
       "    <tr>\n",
       "      <th>max</th>\n",
       "      <td>1.938218</td>\n",
       "      <td>2.150905</td>\n",
       "      <td>1.370020</td>\n",
       "      <td>1.689879</td>\n",
       "      <td>1.065084</td>\n",
       "    </tr>\n",
       "  </tbody>\n",
       "</table>\n",
       "</div>"
      ],
      "text/plain": [
       "       2019-04-03  2019-04-04  2019-04-05  2019-04-08  2019-04-09\n",
       "count   10.000000   10.000000   10.000000   10.000000   10.000000\n",
       "mean    -0.008578    0.179047    0.200873    0.122881    0.055222\n",
       "std      1.225427    1.369994    1.030175    1.021660    0.842260\n",
       "min     -1.494759   -1.392604   -1.663473   -0.968747   -1.919959\n",
       "25%     -1.244821   -0.798200   -0.414832   -0.676604   -0.161340\n",
       "50%      0.297797   -0.325606    0.077229   -0.408018    0.183661\n",
       "75%      0.817003    1.431333    1.154750    1.095087    0.559013\n",
       "max      1.938218    2.150905    1.370020    1.689879    1.065084"
      ]
     },
     "execution_count": 19,
     "metadata": {},
     "output_type": "execute_result"
    }
   ],
   "source": [
    "stock_c.describe()"
   ]
  },
  {
   "cell_type": "code",
   "execution_count": 20,
   "id": "8f830e3a-70f4-412f-8b3e-1f456da49369",
   "metadata": {},
   "outputs": [
    {
     "data": {
      "text/plain": [
       "2019-04-03    3.432976\n",
       "Freq: B, dtype: float64"
      ]
     },
     "execution_count": 20,
     "metadata": {},
     "output_type": "execute_result"
    }
   ],
   "source": [
    "stock_c[['2019-04-03']].apply(lambda x: x.max()-x.min())"
   ]
  },
  {
   "cell_type": "code",
   "execution_count": 21,
   "id": "fbbe169b-f9de-4ed2-b237-b55f00fac3dd",
   "metadata": {},
   "outputs": [
    {
     "data": {
      "text/html": [
       "<div>\n",
       "<style scoped>\n",
       "    .dataframe tbody tr th:only-of-type {\n",
       "        vertical-align: middle;\n",
       "    }\n",
       "\n",
       "    .dataframe tbody tr th {\n",
       "        vertical-align: top;\n",
       "    }\n",
       "\n",
       "    .dataframe thead th {\n",
       "        text-align: right;\n",
       "    }\n",
       "</style>\n",
       "<table border=\"1\" class=\"dataframe\">\n",
       "  <thead>\n",
       "    <tr style=\"text-align: right;\">\n",
       "      <th></th>\n",
       "      <th>2019-04-03</th>\n",
       "    </tr>\n",
       "  </thead>\n",
       "  <tbody>\n",
       "    <tr>\n",
       "      <th>股票1</th>\n",
       "      <td>False</td>\n",
       "    </tr>\n",
       "    <tr>\n",
       "      <th>股票2</th>\n",
       "      <td>False</td>\n",
       "    </tr>\n",
       "    <tr>\n",
       "      <th>股票3</th>\n",
       "      <td>False</td>\n",
       "    </tr>\n",
       "    <tr>\n",
       "      <th>股票4</th>\n",
       "      <td>False</td>\n",
       "    </tr>\n",
       "    <tr>\n",
       "      <th>股票5</th>\n",
       "      <td>False</td>\n",
       "    </tr>\n",
       "    <tr>\n",
       "      <th>股票6</th>\n",
       "      <td>False</td>\n",
       "    </tr>\n",
       "    <tr>\n",
       "      <th>股票7</th>\n",
       "      <td>False</td>\n",
       "    </tr>\n",
       "    <tr>\n",
       "      <th>股票8</th>\n",
       "      <td>False</td>\n",
       "    </tr>\n",
       "    <tr>\n",
       "      <th>股票9</th>\n",
       "      <td>False</td>\n",
       "    </tr>\n",
       "    <tr>\n",
       "      <th>股票10</th>\n",
       "      <td>False</td>\n",
       "    </tr>\n",
       "  </tbody>\n",
       "</table>\n",
       "</div>"
      ],
      "text/plain": [
       "      2019-04-03\n",
       "股票1        False\n",
       "股票2        False\n",
       "股票3        False\n",
       "股票4        False\n",
       "股票5        False\n",
       "股票6        False\n",
       "股票7        False\n",
       "股票8        False\n",
       "股票9        False\n",
       "股票10       False"
      ]
     },
     "execution_count": 21,
     "metadata": {},
     "output_type": "execute_result"
    }
   ],
   "source": [
    "stock_c[['2019-04-03']].apply(lambda x: (x > 0) & (x < 0.2))"
   ]
  },
  {
   "cell_type": "code",
   "execution_count": 23,
   "id": "7f64d707-9cae-4c5c-8a43-a25a874a4b2b",
   "metadata": {},
   "outputs": [],
   "source": [
    "# 文件保存\n",
    "stock_c.to_csv(\"output_index.csv\", index=True)"
   ]
  },
  {
   "cell_type": "code",
   "execution_count": 24,
   "id": "5d16d38f-57b0-4a46-b666-9e4ed20d1b98",
   "metadata": {},
   "outputs": [
    {
     "name": "stdout",
     "output_type": "stream",
     "text": [
      "       A      B      C\n",
      "0  False  False  False\n",
      "1   True  False  False\n",
      "2  False   True  False\n",
      "A    1\n",
      "B    1\n",
      "C    0\n",
      "dtype: int64\n"
     ]
    }
   ],
   "source": [
    "# 创建含缺失值的 DataFrame\n",
    "df = pd.DataFrame({\n",
    "    'A': [1, np.nan, 3],\n",
    "    'B': [4, 5, None],\n",
    "    'C': [7, 8, 9]\n",
    "})\n",
    "\n",
    "# 判断缺失值（返回布尔值 DataFrame）\n",
    "print(df.isna())\n",
    "# 统计每列缺失值数量\n",
    "print(df.isna().sum())"
   ]
  }
 ],
 "metadata": {
  "kernelspec": {
   "display_name": "Python 3 (ipykernel)",
   "language": "python",
   "name": "python3"
  },
  "language_info": {
   "codemirror_mode": {
    "name": "ipython",
    "version": 3
   },
   "file_extension": ".py",
   "mimetype": "text/x-python",
   "name": "python",
   "nbconvert_exporter": "python",
   "pygments_lexer": "ipython3",
   "version": "3.10.18"
  }
 },
 "nbformat": 4,
 "nbformat_minor": 5
}
