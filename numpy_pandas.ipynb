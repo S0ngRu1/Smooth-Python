{
 "cells": [
  {
   "cell_type": "markdown",
   "id": "4ee97ef4",
   "metadata": {},
   "source": [
    "numpy与list运算效率比较"
   ]
  },
  {
   "cell_type": "code",
   "execution_count": 7,
   "id": "2f01ab53a1c7e96a",
   "metadata": {},
   "outputs": [
    {
     "name": "stdout",
     "output_type": "stream",
     "text": [
      "CPU times: user 513 μs, sys: 120 μs, total: 633 μs\n",
      "Wall time: 623 μs\n",
      "CPU times: user 171 μs, sys: 0 ns, total: 171 μs\n",
      "Wall time: 173 μs\n"
     ]
    }
   ],
   "source": [
    "import random\n",
    "import time\n",
    "import numpy as np\n",
    "\n",
    "a = []\n",
    "for i in range(100000):\n",
    "    a.append(random.random())\n",
    "\n",
    "# %time 是 IPython 环境（如 Jupyter Notebook、JupyterLab 或 IPython 终端）中的魔术命令，用于测量代码执行时间。\n",
    "%time sum1 = sum(a)\n",
    "\n",
    "b = np.array(a)\n",
    "%time sum2 = np.sum(b)\n"
   ]
  },
  {
   "cell_type": "code",
   "execution_count": 8,
   "id": "0ff41be1",
   "metadata": {},
   "outputs": [
    {
     "data": {
      "text/plain": [
       "array([1., 1., 1., 1., 1., 1., 1., 1., 1., 1.])"
      ]
     },
     "execution_count": 8,
     "metadata": {},
     "output_type": "execute_result"
    }
   ],
   "source": [
    "import numpy as np\n",
    "np.ones(10)"
   ]
  },
  {
   "cell_type": "code",
   "execution_count": 9,
   "id": "034c90ac",
   "metadata": {},
   "outputs": [
    {
     "data": {
      "text/plain": [
       "array([[1., 1., 1.],\n",
       "       [1., 1., 1.]])"
      ]
     },
     "execution_count": 9,
     "metadata": {},
     "output_type": "execute_result"
    }
   ],
   "source": [
    "import numpy as np\n",
    "np.ones([2,3])"
   ]
  },
  {
   "cell_type": "code",
   "execution_count": 13,
   "id": "cb437c23",
   "metadata": {},
   "outputs": [
    {
     "data": {
      "text/plain": [
       "array([[0., 0., 0.],\n",
       "       [0., 0., 0.]])"
      ]
     },
     "execution_count": 13,
     "metadata": {},
     "output_type": "execute_result"
    }
   ],
   "source": [
    "np.zeros_like(np.ones([2,3]))"
   ]
  },
  {
   "cell_type": "code",
   "execution_count": 14,
   "id": "5694f7ee",
   "metadata": {},
   "outputs": [
    {
     "name": "stdout",
     "output_type": "stream",
     "text": [
      "6\n",
      "[[1 2]\n",
      " [5 6]]\n",
      "[0 4 8]\n"
     ]
    }
   ],
   "source": [
    "arr = np.arange(12).reshape(3, 4)  # 3行4列数组：[[0,1,2,3],[4,5,6,7],[8,9,10,11]]\n",
    "\n",
    "# 索引\n",
    "print(arr[1, 2])  # 第2行第3列：6\n",
    "\n",
    "# 切片（取第1-2行，第2-3列）\n",
    "print(arr[0:2, 1:3])  # [[1,2], [5,6]]\n",
    "\n",
    "# 省略号（...）表示剩余维度全取\n",
    "print(arr[..., 0])  # 取所有行的第1列：[0,4,8]"
   ]
  },
  {
   "cell_type": "code",
   "execution_count": 15,
   "id": "6cf0298c",
   "metadata": {},
   "outputs": [
    {
     "name": "stdout",
     "output_type": "stream",
     "text": [
      "False\n",
      "True\n",
      "True\n",
      "False\n",
      "[[ 0  1  2  3]\n",
      " [ 4  5  6  7]\n",
      " [ 8  9 10 11]]\n",
      "[[200   1   2   3]\n",
      " [  4   5   6   7]\n",
      " [  8   9  10  11]]\n",
      "[[300   1   2   3]\n",
      " [  4   5   6   7]\n",
      " [  8   9  10  11]]\n"
     ]
    }
   ],
   "source": [
    "arr = np.arange(12).reshape(3, 4)\n",
    "arr1 = np.array(arr)\n",
    "arr2 = np.asarray(arr)\n",
    "print(arr1 is arr)  # False，arr1是新数组\n",
    "print(arr2 is arr)  # False，arr2是新数组\n",
    "arr3 = np.array(arr, copy=False)\n",
    "print(arr3 is arr)  # True，arr3是视图，没有复制数据\n",
    "arr4  = np.array(arr, copy=True)\n",
    "print(arr4 is arr)  # False，arr4是新数组\n",
    "arr1[0,0] = 100\n",
    "print(arr)  # arr未变，arr1是新数组（深拷贝）\n",
    "arr3[0,0] = 200\n",
    "print(arr)  # arr变了，arr3是视图（浅拷贝）\n",
    "arr2[0,0] = 300\n",
    "print(arr)  # arr变了，arr2是视图(浅拷贝)"
   ]
  },
  {
   "cell_type": "code",
   "execution_count": 16,
   "id": "5c04b7ca",
   "metadata": {},
   "outputs": [
    {
     "data": {
      "text/plain": [
       "array([ 1.,  2.,  3.,  4.,  5.,  6.,  7.,  8.,  9., 10.])"
      ]
     },
     "execution_count": 16,
     "metadata": {},
     "output_type": "execute_result"
    }
   ],
   "source": [
    "np.linspace(1,10,10)  # 1到10之间均匀取10个数"
   ]
  },
  {
   "cell_type": "code",
   "execution_count": 17,
   "id": "da0bd90f",
   "metadata": {},
   "outputs": [
    {
     "data": {
      "text/plain": [
       "array([1.e+01, 1.e+02, 1.e+03, 1.e+04, 1.e+05, 1.e+06, 1.e+07, 1.e+08,\n",
       "       1.e+09, 1.e+10])"
      ]
     },
     "execution_count": 17,
     "metadata": {},
     "output_type": "execute_result"
    }
   ],
   "source": [
    "np.logspace(1,10,10)  # 10的1次方到10的10次方之间均匀取10个数"
   ]
  },
  {
   "cell_type": "code",
   "execution_count": 18,
   "id": "d4888bbc",
   "metadata": {},
   "outputs": [
    {
     "name": "stdout",
     "output_type": "stream",
     "text": [
      "[2.6797792  7.98416271 7.0771127  8.32607526]\n"
     ]
    }
   ],
   "source": [
    "import numpy as np\n",
    "# 生成均值为5，标准差为2的4个正态分布随机数\n",
    "normal_arr = np.random.normal(loc=5, scale=2, size=4)\n",
    "print(normal_arr)"
   ]
  },
  {
   "cell_type": "code",
   "execution_count": 19,
   "id": "5b02c130",
   "metadata": {},
   "outputs": [
    {
     "name": "stdout",
     "output_type": "stream",
     "text": [
      "[[-0.68186349  0.96285016 -0.97716143  0.27482748]\n",
      " [-0.4105086  -0.5018176   1.00377308 -0.27671748]\n",
      " [-0.45163915 -0.62258613 -1.10279151 -0.33362462]\n",
      " ...\n",
      " [ 0.17807797  0.04992982  1.14168834  0.37146182]\n",
      " [-0.72488774 -0.07312264 -0.27670554  0.28275177]\n",
      " [-1.68246556  1.40629388  0.12986788  0.59357479]]\n"
     ]
    },
    {
     "data": {
      "text/plain": [
       "(1000, 4)"
      ]
     },
     "execution_count": 19,
     "metadata": {},
     "output_type": "execute_result"
    }
   ],
   "source": [
    "import numpy as np\n",
    "stock_change = np.random.normal(0, 1, (1000, 4))  # 1000天，4只股票的日收益率\n",
    "print(stock_change)\n",
    "\n",
    "stock_change.shape\n"
   ]
  },
  {
   "cell_type": "code",
   "execution_count": 20,
   "id": "92b6ce8c",
   "metadata": {},
   "outputs": [
    {
     "name": "stdout",
     "output_type": "stream",
     "text": [
      "(10, 5)\n"
     ]
    },
    {
     "data": {
      "text/plain": [
       "array([[-0.33051159, -2.46751076, -1.18696929, -1.13115961, -0.9230149 ],\n",
       "       [-0.59990997,  0.55610692,  0.59209611,  0.15967857, -0.16485961],\n",
       "       [-0.0058781 ,  0.61064277, -0.65578406,  1.12249027,  2.33574126],\n",
       "       [ 0.63316302, -1.32979489,  1.25886026, -1.93172988,  1.79518945],\n",
       "       [ 0.11252806, -2.5921023 , -1.27545539, -0.61501819,  1.57399862],\n",
       "       [-0.68245444, -1.58440172,  1.07022404, -0.8874486 ,  0.83596035],\n",
       "       [-1.12985808,  0.32002793,  1.82387478,  1.86366966,  0.26769768],\n",
       "       [-0.84470199, -0.12623352, -0.08254795, -1.68601415, -0.75908092],\n",
       "       [-0.21116471,  0.74931308,  0.25386686, -1.09531586,  1.28457245],\n",
       "       [ 0.23163421,  0.58341525,  0.10899315, -0.07465003, -1.73604939]])"
      ]
     },
     "execution_count": 20,
     "metadata": {},
     "output_type": "execute_result"
    }
   ],
   "source": [
    "# 随机生成正态分布数据，10天，5只股票\n",
    "import numpy as np\n",
    "stock_change = np.random.normal(0,1,(10,5))\n",
    "print(stock_change.shape)\n",
    "stock_change"
   ]
  },
  {
   "cell_type": "code",
   "execution_count": 21,
   "id": "7ce41ff4",
   "metadata": {},
   "outputs": [
    {
     "data": {
      "text/html": [
       "<div>\n",
       "<style scoped>\n",
       "    .dataframe tbody tr th:only-of-type {\n",
       "        vertical-align: middle;\n",
       "    }\n",
       "\n",
       "    .dataframe tbody tr th {\n",
       "        vertical-align: top;\n",
       "    }\n",
       "\n",
       "    .dataframe thead th {\n",
       "        text-align: right;\n",
       "    }\n",
       "</style>\n",
       "<table border=\"1\" class=\"dataframe\">\n",
       "  <thead>\n",
       "    <tr style=\"text-align: right;\">\n",
       "      <th></th>\n",
       "      <th>0</th>\n",
       "      <th>1</th>\n",
       "      <th>2</th>\n",
       "      <th>3</th>\n",
       "      <th>4</th>\n",
       "    </tr>\n",
       "  </thead>\n",
       "  <tbody>\n",
       "    <tr>\n",
       "      <th>0</th>\n",
       "      <td>-0.330512</td>\n",
       "      <td>-2.467511</td>\n",
       "      <td>-1.186969</td>\n",
       "      <td>-1.131160</td>\n",
       "      <td>-0.923015</td>\n",
       "    </tr>\n",
       "    <tr>\n",
       "      <th>1</th>\n",
       "      <td>-0.599910</td>\n",
       "      <td>0.556107</td>\n",
       "      <td>0.592096</td>\n",
       "      <td>0.159679</td>\n",
       "      <td>-0.164860</td>\n",
       "    </tr>\n",
       "    <tr>\n",
       "      <th>2</th>\n",
       "      <td>-0.005878</td>\n",
       "      <td>0.610643</td>\n",
       "      <td>-0.655784</td>\n",
       "      <td>1.122490</td>\n",
       "      <td>2.335741</td>\n",
       "    </tr>\n",
       "    <tr>\n",
       "      <th>3</th>\n",
       "      <td>0.633163</td>\n",
       "      <td>-1.329795</td>\n",
       "      <td>1.258860</td>\n",
       "      <td>-1.931730</td>\n",
       "      <td>1.795189</td>\n",
       "    </tr>\n",
       "    <tr>\n",
       "      <th>4</th>\n",
       "      <td>0.112528</td>\n",
       "      <td>-2.592102</td>\n",
       "      <td>-1.275455</td>\n",
       "      <td>-0.615018</td>\n",
       "      <td>1.573999</td>\n",
       "    </tr>\n",
       "    <tr>\n",
       "      <th>5</th>\n",
       "      <td>-0.682454</td>\n",
       "      <td>-1.584402</td>\n",
       "      <td>1.070224</td>\n",
       "      <td>-0.887449</td>\n",
       "      <td>0.835960</td>\n",
       "    </tr>\n",
       "    <tr>\n",
       "      <th>6</th>\n",
       "      <td>-1.129858</td>\n",
       "      <td>0.320028</td>\n",
       "      <td>1.823875</td>\n",
       "      <td>1.863670</td>\n",
       "      <td>0.267698</td>\n",
       "    </tr>\n",
       "    <tr>\n",
       "      <th>7</th>\n",
       "      <td>-0.844702</td>\n",
       "      <td>-0.126234</td>\n",
       "      <td>-0.082548</td>\n",
       "      <td>-1.686014</td>\n",
       "      <td>-0.759081</td>\n",
       "    </tr>\n",
       "    <tr>\n",
       "      <th>8</th>\n",
       "      <td>-0.211165</td>\n",
       "      <td>0.749313</td>\n",
       "      <td>0.253867</td>\n",
       "      <td>-1.095316</td>\n",
       "      <td>1.284572</td>\n",
       "    </tr>\n",
       "    <tr>\n",
       "      <th>9</th>\n",
       "      <td>0.231634</td>\n",
       "      <td>0.583415</td>\n",
       "      <td>0.108993</td>\n",
       "      <td>-0.074650</td>\n",
       "      <td>-1.736049</td>\n",
       "    </tr>\n",
       "  </tbody>\n",
       "</table>\n",
       "</div>"
      ],
      "text/plain": [
       "          0         1         2         3         4\n",
       "0 -0.330512 -2.467511 -1.186969 -1.131160 -0.923015\n",
       "1 -0.599910  0.556107  0.592096  0.159679 -0.164860\n",
       "2 -0.005878  0.610643 -0.655784  1.122490  2.335741\n",
       "3  0.633163 -1.329795  1.258860 -1.931730  1.795189\n",
       "4  0.112528 -2.592102 -1.275455 -0.615018  1.573999\n",
       "5 -0.682454 -1.584402  1.070224 -0.887449  0.835960\n",
       "6 -1.129858  0.320028  1.823875  1.863670  0.267698\n",
       "7 -0.844702 -0.126234 -0.082548 -1.686014 -0.759081\n",
       "8 -0.211165  0.749313  0.253867 -1.095316  1.284572\n",
       "9  0.231634  0.583415  0.108993 -0.074650 -1.736049"
      ]
     },
     "execution_count": 21,
     "metadata": {},
     "output_type": "execute_result"
    }
   ],
   "source": [
    "# pandas\n",
    "import pandas as pd\n",
    "pd.DataFrame(stock_change)"
   ]
  },
  {
   "cell_type": "code",
   "execution_count": 22,
   "id": "7e147a43",
   "metadata": {},
   "outputs": [
    {
     "name": "stdout",
     "output_type": "stream",
     "text": [
      "['股票1', '股票2', '股票3', '股票4', '股票5', '股票6', '股票7', '股票8', '股票9', '股票10']\n"
     ]
    },
    {
     "data": {
      "text/html": [
       "<div>\n",
       "<style scoped>\n",
       "    .dataframe tbody tr th:only-of-type {\n",
       "        vertical-align: middle;\n",
       "    }\n",
       "\n",
       "    .dataframe tbody tr th {\n",
       "        vertical-align: top;\n",
       "    }\n",
       "\n",
       "    .dataframe thead th {\n",
       "        text-align: right;\n",
       "    }\n",
       "</style>\n",
       "<table border=\"1\" class=\"dataframe\">\n",
       "  <thead>\n",
       "    <tr style=\"text-align: right;\">\n",
       "      <th></th>\n",
       "      <th>0</th>\n",
       "      <th>1</th>\n",
       "      <th>2</th>\n",
       "      <th>3</th>\n",
       "      <th>4</th>\n",
       "    </tr>\n",
       "  </thead>\n",
       "  <tbody>\n",
       "    <tr>\n",
       "      <th>股票1</th>\n",
       "      <td>-0.330512</td>\n",
       "      <td>-2.467511</td>\n",
       "      <td>-1.186969</td>\n",
       "      <td>-1.131160</td>\n",
       "      <td>-0.923015</td>\n",
       "    </tr>\n",
       "    <tr>\n",
       "      <th>股票2</th>\n",
       "      <td>-0.599910</td>\n",
       "      <td>0.556107</td>\n",
       "      <td>0.592096</td>\n",
       "      <td>0.159679</td>\n",
       "      <td>-0.164860</td>\n",
       "    </tr>\n",
       "    <tr>\n",
       "      <th>股票3</th>\n",
       "      <td>-0.005878</td>\n",
       "      <td>0.610643</td>\n",
       "      <td>-0.655784</td>\n",
       "      <td>1.122490</td>\n",
       "      <td>2.335741</td>\n",
       "    </tr>\n",
       "    <tr>\n",
       "      <th>股票4</th>\n",
       "      <td>0.633163</td>\n",
       "      <td>-1.329795</td>\n",
       "      <td>1.258860</td>\n",
       "      <td>-1.931730</td>\n",
       "      <td>1.795189</td>\n",
       "    </tr>\n",
       "    <tr>\n",
       "      <th>股票5</th>\n",
       "      <td>0.112528</td>\n",
       "      <td>-2.592102</td>\n",
       "      <td>-1.275455</td>\n",
       "      <td>-0.615018</td>\n",
       "      <td>1.573999</td>\n",
       "    </tr>\n",
       "    <tr>\n",
       "      <th>股票6</th>\n",
       "      <td>-0.682454</td>\n",
       "      <td>-1.584402</td>\n",
       "      <td>1.070224</td>\n",
       "      <td>-0.887449</td>\n",
       "      <td>0.835960</td>\n",
       "    </tr>\n",
       "    <tr>\n",
       "      <th>股票7</th>\n",
       "      <td>-1.129858</td>\n",
       "      <td>0.320028</td>\n",
       "      <td>1.823875</td>\n",
       "      <td>1.863670</td>\n",
       "      <td>0.267698</td>\n",
       "    </tr>\n",
       "    <tr>\n",
       "      <th>股票8</th>\n",
       "      <td>-0.844702</td>\n",
       "      <td>-0.126234</td>\n",
       "      <td>-0.082548</td>\n",
       "      <td>-1.686014</td>\n",
       "      <td>-0.759081</td>\n",
       "    </tr>\n",
       "    <tr>\n",
       "      <th>股票9</th>\n",
       "      <td>-0.211165</td>\n",
       "      <td>0.749313</td>\n",
       "      <td>0.253867</td>\n",
       "      <td>-1.095316</td>\n",
       "      <td>1.284572</td>\n",
       "    </tr>\n",
       "    <tr>\n",
       "      <th>股票10</th>\n",
       "      <td>0.231634</td>\n",
       "      <td>0.583415</td>\n",
       "      <td>0.108993</td>\n",
       "      <td>-0.074650</td>\n",
       "      <td>-1.736049</td>\n",
       "    </tr>\n",
       "  </tbody>\n",
       "</table>\n",
       "</div>"
      ],
      "text/plain": [
       "             0         1         2         3         4\n",
       "股票1  -0.330512 -2.467511 -1.186969 -1.131160 -0.923015\n",
       "股票2  -0.599910  0.556107  0.592096  0.159679 -0.164860\n",
       "股票3  -0.005878  0.610643 -0.655784  1.122490  2.335741\n",
       "股票4   0.633163 -1.329795  1.258860 -1.931730  1.795189\n",
       "股票5   0.112528 -2.592102 -1.275455 -0.615018  1.573999\n",
       "股票6  -0.682454 -1.584402  1.070224 -0.887449  0.835960\n",
       "股票7  -1.129858  0.320028  1.823875  1.863670  0.267698\n",
       "股票8  -0.844702 -0.126234 -0.082548 -1.686014 -0.759081\n",
       "股票9  -0.211165  0.749313  0.253867 -1.095316  1.284572\n",
       "股票10  0.231634  0.583415  0.108993 -0.074650 -1.736049"
      ]
     },
     "execution_count": 22,
     "metadata": {},
     "output_type": "execute_result"
    }
   ],
   "source": [
    "# 添加行列标签\n",
    "stock_code = [f'股票{i+1}' for i in range(stock_change.shape[0])]\n",
    "print(stock_code)\n",
    "\n",
    "pd.DataFrame(stock_change,index=stock_code)"
   ]
  },
  {
   "cell_type": "code",
   "execution_count": 23,
   "id": "e564770e",
   "metadata": {},
   "outputs": [
    {
     "data": {
      "text/plain": [
       "DatetimeIndex(['2019-04-03', '2019-04-04', '2019-04-05', '2019-04-08',\n",
       "               '2019-04-09'],\n",
       "              dtype='datetime64[ns]', freq='B')"
      ]
     },
     "execution_count": 23,
     "metadata": {},
     "output_type": "execute_result"
    }
   ],
   "source": [
    "# 设置列标签，采用pd.date_range()自动生成跳过周末的时间\n",
    "date = pd.date_range(start='20190403',periods=stock_change.shape[1],freq='B')\n",
    "date"
   ]
  },
  {
   "cell_type": "code",
   "execution_count": 24,
   "id": "478b98bb",
   "metadata": {},
   "outputs": [],
   "source": [
    "stock_c = pd.DataFrame(stock_change,index=stock_code, columns=date)"
   ]
  },
  {
   "cell_type": "code",
   "execution_count": 25,
   "id": "0abce4cd-9542-43db-9d49-e8b36bdc90a1",
   "metadata": {},
   "outputs": [
    {
     "data": {
      "text/html": [
       "<div>\n",
       "<style scoped>\n",
       "    .dataframe tbody tr th:only-of-type {\n",
       "        vertical-align: middle;\n",
       "    }\n",
       "\n",
       "    .dataframe tbody tr th {\n",
       "        vertical-align: top;\n",
       "    }\n",
       "\n",
       "    .dataframe thead th {\n",
       "        text-align: right;\n",
       "    }\n",
       "</style>\n",
       "<table border=\"1\" class=\"dataframe\">\n",
       "  <thead>\n",
       "    <tr style=\"text-align: right;\">\n",
       "      <th></th>\n",
       "      <th>2019-04-03</th>\n",
       "      <th>2019-04-04</th>\n",
       "      <th>2019-04-05</th>\n",
       "      <th>2019-04-08</th>\n",
       "      <th>2019-04-09</th>\n",
       "    </tr>\n",
       "  </thead>\n",
       "  <tbody>\n",
       "    <tr>\n",
       "      <th>股票1</th>\n",
       "      <td>-0.330512</td>\n",
       "      <td>-2.467511</td>\n",
       "      <td>-1.186969</td>\n",
       "      <td>-1.131160</td>\n",
       "      <td>-0.923015</td>\n",
       "    </tr>\n",
       "    <tr>\n",
       "      <th>股票2</th>\n",
       "      <td>-0.599910</td>\n",
       "      <td>0.556107</td>\n",
       "      <td>0.592096</td>\n",
       "      <td>0.159679</td>\n",
       "      <td>-0.164860</td>\n",
       "    </tr>\n",
       "    <tr>\n",
       "      <th>股票3</th>\n",
       "      <td>-0.005878</td>\n",
       "      <td>0.610643</td>\n",
       "      <td>-0.655784</td>\n",
       "      <td>1.122490</td>\n",
       "      <td>2.335741</td>\n",
       "    </tr>\n",
       "    <tr>\n",
       "      <th>股票4</th>\n",
       "      <td>0.633163</td>\n",
       "      <td>-1.329795</td>\n",
       "      <td>1.258860</td>\n",
       "      <td>-1.931730</td>\n",
       "      <td>1.795189</td>\n",
       "    </tr>\n",
       "    <tr>\n",
       "      <th>股票5</th>\n",
       "      <td>0.112528</td>\n",
       "      <td>-2.592102</td>\n",
       "      <td>-1.275455</td>\n",
       "      <td>-0.615018</td>\n",
       "      <td>1.573999</td>\n",
       "    </tr>\n",
       "  </tbody>\n",
       "</table>\n",
       "</div>"
      ],
      "text/plain": [
       "     2019-04-03  2019-04-04  2019-04-05  2019-04-08  2019-04-09\n",
       "股票1   -0.330512   -2.467511   -1.186969   -1.131160   -0.923015\n",
       "股票2   -0.599910    0.556107    0.592096    0.159679   -0.164860\n",
       "股票3   -0.005878    0.610643   -0.655784    1.122490    2.335741\n",
       "股票4    0.633163   -1.329795    1.258860   -1.931730    1.795189\n",
       "股票5    0.112528   -2.592102   -1.275455   -0.615018    1.573999"
      ]
     },
     "execution_count": 25,
     "metadata": {},
     "output_type": "execute_result"
    }
   ],
   "source": [
    "stock_c.head()   # 查看前五行"
   ]
  },
  {
   "cell_type": "code",
   "execution_count": 26,
   "id": "ed9203f7-701e-41ed-853f-568fa9d93d7f",
   "metadata": {},
   "outputs": [
    {
     "data": {
      "text/html": [
       "<div>\n",
       "<style scoped>\n",
       "    .dataframe tbody tr th:only-of-type {\n",
       "        vertical-align: middle;\n",
       "    }\n",
       "\n",
       "    .dataframe tbody tr th {\n",
       "        vertical-align: top;\n",
       "    }\n",
       "\n",
       "    .dataframe thead th {\n",
       "        text-align: right;\n",
       "    }\n",
       "</style>\n",
       "<table border=\"1\" class=\"dataframe\">\n",
       "  <thead>\n",
       "    <tr style=\"text-align: right;\">\n",
       "      <th></th>\n",
       "      <th>2019-04-03</th>\n",
       "      <th>2019-04-04</th>\n",
       "      <th>2019-04-05</th>\n",
       "      <th>2019-04-08</th>\n",
       "      <th>2019-04-09</th>\n",
       "    </tr>\n",
       "  </thead>\n",
       "  <tbody>\n",
       "    <tr>\n",
       "      <th>股票6</th>\n",
       "      <td>-0.682454</td>\n",
       "      <td>-1.584402</td>\n",
       "      <td>1.070224</td>\n",
       "      <td>-0.887449</td>\n",
       "      <td>0.835960</td>\n",
       "    </tr>\n",
       "    <tr>\n",
       "      <th>股票7</th>\n",
       "      <td>-1.129858</td>\n",
       "      <td>0.320028</td>\n",
       "      <td>1.823875</td>\n",
       "      <td>1.863670</td>\n",
       "      <td>0.267698</td>\n",
       "    </tr>\n",
       "    <tr>\n",
       "      <th>股票8</th>\n",
       "      <td>-0.844702</td>\n",
       "      <td>-0.126234</td>\n",
       "      <td>-0.082548</td>\n",
       "      <td>-1.686014</td>\n",
       "      <td>-0.759081</td>\n",
       "    </tr>\n",
       "    <tr>\n",
       "      <th>股票9</th>\n",
       "      <td>-0.211165</td>\n",
       "      <td>0.749313</td>\n",
       "      <td>0.253867</td>\n",
       "      <td>-1.095316</td>\n",
       "      <td>1.284572</td>\n",
       "    </tr>\n",
       "    <tr>\n",
       "      <th>股票10</th>\n",
       "      <td>0.231634</td>\n",
       "      <td>0.583415</td>\n",
       "      <td>0.108993</td>\n",
       "      <td>-0.074650</td>\n",
       "      <td>-1.736049</td>\n",
       "    </tr>\n",
       "  </tbody>\n",
       "</table>\n",
       "</div>"
      ],
      "text/plain": [
       "      2019-04-03  2019-04-04  2019-04-05  2019-04-08  2019-04-09\n",
       "股票6    -0.682454   -1.584402    1.070224   -0.887449    0.835960\n",
       "股票7    -1.129858    0.320028    1.823875    1.863670    0.267698\n",
       "股票8    -0.844702   -0.126234   -0.082548   -1.686014   -0.759081\n",
       "股票9    -0.211165    0.749313    0.253867   -1.095316    1.284572\n",
       "股票10    0.231634    0.583415    0.108993   -0.074650   -1.736049"
      ]
     },
     "execution_count": 26,
     "metadata": {},
     "output_type": "execute_result"
    }
   ],
   "source": [
    "stock_c.tail()   # 查看后五行"
   ]
  },
  {
   "cell_type": "code",
   "execution_count": 27,
   "id": "c4d3249d-721d-489a-8402-2a8d33702c6f",
   "metadata": {},
   "outputs": [
    {
     "data": {
      "text/plain": [
       "np.float64(-0.6824544435034859)"
      ]
     },
     "execution_count": 27,
     "metadata": {},
     "output_type": "execute_result"
    }
   ],
   "source": [
    "# 不可以先行后列\n",
    "# stock_c['股票6']['2019-04-03']\n",
    "stock_c['2019-04-03']['股票6']"
   ]
  },
  {
   "cell_type": "code",
   "execution_count": 29,
   "id": "5173973b-d82b-4b80-b101-7679aab80654",
   "metadata": {},
   "outputs": [
    {
     "data": {
      "text/html": [
       "<div>\n",
       "<style scoped>\n",
       "    .dataframe tbody tr th:only-of-type {\n",
       "        vertical-align: middle;\n",
       "    }\n",
       "\n",
       "    .dataframe tbody tr th {\n",
       "        vertical-align: top;\n",
       "    }\n",
       "\n",
       "    .dataframe thead th {\n",
       "        text-align: right;\n",
       "    }\n",
       "</style>\n",
       "<table border=\"1\" class=\"dataframe\">\n",
       "  <thead>\n",
       "    <tr style=\"text-align: right;\">\n",
       "      <th></th>\n",
       "      <th>2019-04-03</th>\n",
       "      <th>2019-04-04</th>\n",
       "      <th>2019-04-05</th>\n",
       "      <th>2019-04-08</th>\n",
       "      <th>2019-04-09</th>\n",
       "    </tr>\n",
       "  </thead>\n",
       "  <tbody>\n",
       "    <tr>\n",
       "      <th>count</th>\n",
       "      <td>10.000000</td>\n",
       "      <td>10.000000</td>\n",
       "      <td>10.000000</td>\n",
       "      <td>10.000000</td>\n",
       "      <td>10.000000</td>\n",
       "    </tr>\n",
       "    <tr>\n",
       "      <th>mean</th>\n",
       "      <td>-0.282715</td>\n",
       "      <td>-0.528054</td>\n",
       "      <td>0.190716</td>\n",
       "      <td>-0.427550</td>\n",
       "      <td>0.451015</td>\n",
       "    </tr>\n",
       "    <tr>\n",
       "      <th>std</th>\n",
       "      <td>0.541349</td>\n",
       "      <td>1.333342</td>\n",
       "      <td>1.032384</td>\n",
       "      <td>1.209022</td>\n",
       "      <td>1.333814</td>\n",
       "    </tr>\n",
       "    <tr>\n",
       "      <th>min</th>\n",
       "      <td>-1.129858</td>\n",
       "      <td>-2.592102</td>\n",
       "      <td>-1.275455</td>\n",
       "      <td>-1.931730</td>\n",
       "      <td>-1.736049</td>\n",
       "    </tr>\n",
       "    <tr>\n",
       "      <th>25%</th>\n",
       "      <td>-0.661818</td>\n",
       "      <td>-1.520750</td>\n",
       "      <td>-0.512475</td>\n",
       "      <td>-1.122199</td>\n",
       "      <td>-0.610526</td>\n",
       "    </tr>\n",
       "    <tr>\n",
       "      <th>50%</th>\n",
       "      <td>-0.270838</td>\n",
       "      <td>0.096897</td>\n",
       "      <td>0.181430</td>\n",
       "      <td>-0.751233</td>\n",
       "      <td>0.551829</td>\n",
       "    </tr>\n",
       "    <tr>\n",
       "      <th>75%</th>\n",
       "      <td>0.082927</td>\n",
       "      <td>0.576588</td>\n",
       "      <td>0.950692</td>\n",
       "      <td>0.101096</td>\n",
       "      <td>1.501642</td>\n",
       "    </tr>\n",
       "    <tr>\n",
       "      <th>max</th>\n",
       "      <td>0.633163</td>\n",
       "      <td>0.749313</td>\n",
       "      <td>1.823875</td>\n",
       "      <td>1.863670</td>\n",
       "      <td>2.335741</td>\n",
       "    </tr>\n",
       "  </tbody>\n",
       "</table>\n",
       "</div>"
      ],
      "text/plain": [
       "       2019-04-03  2019-04-04  2019-04-05  2019-04-08  2019-04-09\n",
       "count   10.000000   10.000000   10.000000   10.000000   10.000000\n",
       "mean    -0.282715   -0.528054    0.190716   -0.427550    0.451015\n",
       "std      0.541349    1.333342    1.032384    1.209022    1.333814\n",
       "min     -1.129858   -2.592102   -1.275455   -1.931730   -1.736049\n",
       "25%     -0.661818   -1.520750   -0.512475   -1.122199   -0.610526\n",
       "50%     -0.270838    0.096897    0.181430   -0.751233    0.551829\n",
       "75%      0.082927    0.576588    0.950692    0.101096    1.501642\n",
       "max      0.633163    0.749313    1.823875    1.863670    2.335741"
      ]
     },
     "execution_count": 29,
     "metadata": {},
     "output_type": "execute_result"
    }
   ],
   "source": [
    "stock_c.describe()"
   ]
  },
  {
   "cell_type": "code",
   "execution_count": 37,
   "id": "8f830e3a-70f4-412f-8b3e-1f456da49369",
   "metadata": {},
   "outputs": [
    {
     "data": {
      "text/plain": [
       "2019-04-03    1.763021\n",
       "Freq: B, dtype: float64"
      ]
     },
     "execution_count": 37,
     "metadata": {},
     "output_type": "execute_result"
    }
   ],
   "source": [
    "stock_c[['2019-04-03']].apply(lambda x: x.max()-x.min())"
   ]
  },
  {
   "cell_type": "code",
   "execution_count": 41,
   "id": "fbbe169b-f9de-4ed2-b237-b55f00fac3dd",
   "metadata": {},
   "outputs": [
    {
     "data": {
      "text/html": [
       "<div>\n",
       "<style scoped>\n",
       "    .dataframe tbody tr th:only-of-type {\n",
       "        vertical-align: middle;\n",
       "    }\n",
       "\n",
       "    .dataframe tbody tr th {\n",
       "        vertical-align: top;\n",
       "    }\n",
       "\n",
       "    .dataframe thead th {\n",
       "        text-align: right;\n",
       "    }\n",
       "</style>\n",
       "<table border=\"1\" class=\"dataframe\">\n",
       "  <thead>\n",
       "    <tr style=\"text-align: right;\">\n",
       "      <th></th>\n",
       "      <th>2019-04-03</th>\n",
       "    </tr>\n",
       "  </thead>\n",
       "  <tbody>\n",
       "    <tr>\n",
       "      <th>股票1</th>\n",
       "      <td>False</td>\n",
       "    </tr>\n",
       "    <tr>\n",
       "      <th>股票2</th>\n",
       "      <td>False</td>\n",
       "    </tr>\n",
       "    <tr>\n",
       "      <th>股票3</th>\n",
       "      <td>False</td>\n",
       "    </tr>\n",
       "    <tr>\n",
       "      <th>股票4</th>\n",
       "      <td>False</td>\n",
       "    </tr>\n",
       "    <tr>\n",
       "      <th>股票5</th>\n",
       "      <td>True</td>\n",
       "    </tr>\n",
       "    <tr>\n",
       "      <th>股票6</th>\n",
       "      <td>False</td>\n",
       "    </tr>\n",
       "    <tr>\n",
       "      <th>股票7</th>\n",
       "      <td>False</td>\n",
       "    </tr>\n",
       "    <tr>\n",
       "      <th>股票8</th>\n",
       "      <td>False</td>\n",
       "    </tr>\n",
       "    <tr>\n",
       "      <th>股票9</th>\n",
       "      <td>False</td>\n",
       "    </tr>\n",
       "    <tr>\n",
       "      <th>股票10</th>\n",
       "      <td>False</td>\n",
       "    </tr>\n",
       "  </tbody>\n",
       "</table>\n",
       "</div>"
      ],
      "text/plain": [
       "      2019-04-03\n",
       "股票1        False\n",
       "股票2        False\n",
       "股票3        False\n",
       "股票4        False\n",
       "股票5         True\n",
       "股票6        False\n",
       "股票7        False\n",
       "股票8        False\n",
       "股票9        False\n",
       "股票10       False"
      ]
     },
     "execution_count": 41,
     "metadata": {},
     "output_type": "execute_result"
    }
   ],
   "source": [
    "stock_c[['2019-04-03']].apply(lambda x: (x > 0) & (x < 0.2))"
   ]
  },
  {
   "cell_type": "code",
   "execution_count": 45,
   "id": "7f64d707-9cae-4c5c-8a43-a25a874a4b2b",
   "metadata": {},
   "outputs": [],
   "source": [
    "# 文件保存\n",
    "stock_c.to_csv(\"output_index.csv\", index=True)"
   ]
  }
 ],
 "metadata": {
  "kernelspec": {
   "display_name": "Python 3 (ipykernel)",
   "language": "python",
   "name": "python3"
  },
  "language_info": {
   "codemirror_mode": {
    "name": "ipython",
    "version": 3
   },
   "file_extension": ".py",
   "mimetype": "text/x-python",
   "name": "python",
   "nbconvert_exporter": "python",
   "pygments_lexer": "ipython3",
   "version": "3.10.18"
  }
 },
 "nbformat": 4,
 "nbformat_minor": 5
}
