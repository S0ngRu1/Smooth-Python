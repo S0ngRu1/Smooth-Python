{
 "cells": [
  {
   "cell_type": "markdown",
   "id": "4ee97ef4",
   "metadata": {},
   "source": [
    "numpy与list运算效率比较"
   ]
  },
  {
   "cell_type": "code",
   "execution_count": 1,
   "id": "2f01ab53a1c7e96a",
   "metadata": {},
   "outputs": [
    {
     "name": "stdout",
     "output_type": "stream",
     "text": [
      "CPU times: total: 0 ns\n",
      "Wall time: 999 μs\n",
      "CPU times: total: 0 ns\n",
      "Wall time: 998 μs\n"
     ]
    }
   ],
   "source": [
    "import random\n",
    "import time\n",
    "import numpy as np\n",
    "\n",
    "a = []\n",
    "for i in range(100000):\n",
    "    a.append(random.random())\n",
    "\n",
    "# %time 是 IPython 环境（如 Jupyter Notebook、JupyterLab 或 IPython 终端）中的魔术命令，用于测量代码执行时间。\n",
    "%time sum1 = sum(a)\n",
    "\n",
    "b = np.array(a)\n",
    "%time sum2 = np.sum(b)\n"
   ]
  },
  {
   "cell_type": "code",
   "execution_count": 2,
   "id": "0ff41be1",
   "metadata": {},
   "outputs": [
    {
     "data": {
      "text/plain": [
       "array([1., 1., 1., 1., 1., 1., 1., 1., 1., 1.])"
      ]
     },
     "execution_count": 2,
     "metadata": {},
     "output_type": "execute_result"
    }
   ],
   "source": [
    "import numpy as np\n",
    "np.ones(10)"
   ]
  },
  {
   "cell_type": "code",
   "execution_count": 3,
   "id": "034c90ac",
   "metadata": {},
   "outputs": [
    {
     "data": {
      "text/plain": [
       "array([[1., 1., 1.],\n",
       "       [1., 1., 1.]])"
      ]
     },
     "execution_count": 3,
     "metadata": {},
     "output_type": "execute_result"
    }
   ],
   "source": [
    "import numpy as np\n",
    "np.ones([2,3])"
   ]
  },
  {
   "cell_type": "code",
   "execution_count": 4,
   "id": "cb437c23",
   "metadata": {},
   "outputs": [
    {
     "data": {
      "text/plain": [
       "array([[0., 0., 0.],\n",
       "       [0., 0., 0.]])"
      ]
     },
     "execution_count": 4,
     "metadata": {},
     "output_type": "execute_result"
    }
   ],
   "source": [
    "np.zeros_like(np.ones([2,3]))"
   ]
  },
  {
   "cell_type": "code",
   "execution_count": 5,
   "id": "5694f7ee",
   "metadata": {},
   "outputs": [
    {
     "name": "stdout",
     "output_type": "stream",
     "text": [
      "6\n",
      "[[1 2]\n",
      " [5 6]]\n",
      "[0 4 8]\n"
     ]
    }
   ],
   "source": [
    "arr = np.arange(12).reshape(3, 4)  # 3行4列数组：[[0,1,2,3],[4,5,6,7],[8,9,10,11]]\n",
    "\n",
    "# 索引\n",
    "print(arr[1, 2])  # 第2行第3列：6\n",
    "\n",
    "# 切片（取第1-2行，第2-3列）\n",
    "print(arr[0:2, 1:3])  # [[1,2], [5,6]]\n",
    "\n",
    "# 省略号（...）表示剩余维度全取\n",
    "print(arr[..., 0])  # 取所有行的第1列：[0,4,8]"
   ]
  },
  {
   "cell_type": "code",
   "execution_count": 6,
   "id": "6cf0298c",
   "metadata": {},
   "outputs": [
    {
     "name": "stdout",
     "output_type": "stream",
     "text": [
      "False\n",
      "True\n",
      "True\n",
      "False\n",
      "[[ 0  1  2  3]\n",
      " [ 4  5  6  7]\n",
      " [ 8  9 10 11]]\n",
      "[[200   1   2   3]\n",
      " [  4   5   6   7]\n",
      " [  8   9  10  11]]\n",
      "[[300   1   2   3]\n",
      " [  4   5   6   7]\n",
      " [  8   9  10  11]]\n"
     ]
    }
   ],
   "source": [
    "arr = np.arange(12).reshape(3, 4)\n",
    "arr1 = np.array(arr)\n",
    "arr2 = np.asarray(arr)\n",
    "print(arr1 is arr)  # False，arr1是新数组\n",
    "print(arr2 is arr)  # False，arr2是新数组\n",
    "arr3 = np.array(arr, copy=False)\n",
    "print(arr3 is arr)  # True，arr3是视图，没有复制数据\n",
    "arr4  = np.array(arr, copy=True)\n",
    "print(arr4 is arr)  # False，arr4是新数组\n",
    "arr1[0,0] = 100\n",
    "print(arr)  # arr未变，arr1是新数组（深拷贝）\n",
    "arr3[0,0] = 200\n",
    "print(arr)  # arr变了，arr3是视图（浅拷贝）\n",
    "arr2[0,0] = 300\n",
    "print(arr)  # arr变了，arr2是视图(浅拷贝)"
   ]
  },
  {
   "cell_type": "code",
   "execution_count": 7,
   "id": "5c04b7ca",
   "metadata": {},
   "outputs": [
    {
     "data": {
      "text/plain": [
       "array([ 1.,  2.,  3.,  4.,  5.,  6.,  7.,  8.,  9., 10.])"
      ]
     },
     "execution_count": 7,
     "metadata": {},
     "output_type": "execute_result"
    }
   ],
   "source": [
    "np.linspace(1,10,10)  # 1到10之间均匀取10个数"
   ]
  },
  {
   "cell_type": "code",
   "execution_count": 8,
   "id": "da0bd90f",
   "metadata": {},
   "outputs": [
    {
     "data": {
      "text/plain": [
       "array([1.e+01, 1.e+02, 1.e+03, 1.e+04, 1.e+05, 1.e+06, 1.e+07, 1.e+08,\n",
       "       1.e+09, 1.e+10])"
      ]
     },
     "execution_count": 8,
     "metadata": {},
     "output_type": "execute_result"
    }
   ],
   "source": [
    "np.logspace(1,10,10)  # 10的1次方到10的10次方之间均匀取10个数"
   ]
  },
  {
   "cell_type": "code",
   "execution_count": 9,
   "id": "d4888bbc",
   "metadata": {},
   "outputs": [
    {
     "name": "stdout",
     "output_type": "stream",
     "text": [
      "[7.53035508 7.26188188 6.02823563 5.39217729]\n"
     ]
    }
   ],
   "source": [
    "import numpy as np\n",
    "# 生成均值为5，标准差为2的4个正态分布随机数\n",
    "normal_arr = np.random.normal(loc=5, scale=2, size=4)\n",
    "print(normal_arr)"
   ]
  },
  {
   "cell_type": "code",
   "execution_count": 10,
   "id": "5b02c130",
   "metadata": {},
   "outputs": [
    {
     "name": "stdout",
     "output_type": "stream",
     "text": [
      "[[ 0.27951317  1.1775248  -0.97925103 -1.46710388]\n",
      " [ 1.93597296  0.93013333  0.73077659 -1.34388379]\n",
      " [ 0.81566968 -0.30442396  0.49020532 -0.57162095]\n",
      " ...\n",
      " [ 1.11432622 -1.49334243 -1.42595571 -1.27860965]\n",
      " [-1.22652999  0.07938364 -1.05109829 -1.59235575]\n",
      " [-1.43863099  0.56219392 -0.40865756  1.17767091]]\n"
     ]
    },
    {
     "data": {
      "text/plain": [
       "(1000, 4)"
      ]
     },
     "execution_count": 10,
     "metadata": {},
     "output_type": "execute_result"
    }
   ],
   "source": [
    "import numpy as np\n",
    "stock_change = np.random.normal(0, 1, (1000, 4))  # 1000天，4只股票的日收益率\n",
    "print(stock_change)\n",
    "\n",
    "stock_change.shape\n"
   ]
  },
  {
   "cell_type": "code",
   "execution_count": 11,
   "id": "92b6ce8c",
   "metadata": {},
   "outputs": [
    {
     "name": "stdout",
     "output_type": "stream",
     "text": [
      "(10, 5)\n"
     ]
    },
    {
     "data": {
      "text/plain": [
       "array([[-1.8246002 ,  0.62899161,  1.07487324, -0.01192552,  0.20987608],\n",
       "       [ 0.38351704,  0.29591695, -0.56976445,  1.09005264,  1.21142388],\n",
       "       [ 0.7147009 , -0.65087819, -0.37595255, -0.50689236, -0.95498767],\n",
       "       [-1.29833764,  0.66706988,  0.53256549,  0.96961158, -0.10316803],\n",
       "       [-0.75409544, -1.67583444, -0.46876336, -0.06135842, -0.13050896],\n",
       "       [-0.24797994, -0.75146285,  1.41236716,  0.40805255, -0.08840968],\n",
       "       [-0.79596281,  0.09911132,  0.51383952,  1.97799854, -0.96143812],\n",
       "       [ 0.92861858,  0.31022276,  0.99085975,  0.93889136, -1.16328187],\n",
       "       [-0.17034281,  1.00269862, -1.10500801,  0.76981874,  0.24684219],\n",
       "       [-0.38045481,  0.11265165,  1.87943552,  0.65617892,  1.09700323]])"
      ]
     },
     "execution_count": 11,
     "metadata": {},
     "output_type": "execute_result"
    }
   ],
   "source": [
    "# 随机生成正态分布数据，10天，5只股票\n",
    "import numpy as np\n",
    "stock_change = np.random.normal(0,1,(10,5))\n",
    "print(stock_change.shape)\n",
    "stock_change"
   ]
  },
  {
   "cell_type": "code",
   "execution_count": 12,
   "id": "7ce41ff4",
   "metadata": {},
   "outputs": [
    {
     "data": {
      "text/html": [
       "<div>\n",
       "<style scoped>\n",
       "    .dataframe tbody tr th:only-of-type {\n",
       "        vertical-align: middle;\n",
       "    }\n",
       "\n",
       "    .dataframe tbody tr th {\n",
       "        vertical-align: top;\n",
       "    }\n",
       "\n",
       "    .dataframe thead th {\n",
       "        text-align: right;\n",
       "    }\n",
       "</style>\n",
       "<table border=\"1\" class=\"dataframe\">\n",
       "  <thead>\n",
       "    <tr style=\"text-align: right;\">\n",
       "      <th></th>\n",
       "      <th>0</th>\n",
       "      <th>1</th>\n",
       "      <th>2</th>\n",
       "      <th>3</th>\n",
       "      <th>4</th>\n",
       "    </tr>\n",
       "  </thead>\n",
       "  <tbody>\n",
       "    <tr>\n",
       "      <th>0</th>\n",
       "      <td>-1.824600</td>\n",
       "      <td>0.628992</td>\n",
       "      <td>1.074873</td>\n",
       "      <td>-0.011926</td>\n",
       "      <td>0.209876</td>\n",
       "    </tr>\n",
       "    <tr>\n",
       "      <th>1</th>\n",
       "      <td>0.383517</td>\n",
       "      <td>0.295917</td>\n",
       "      <td>-0.569764</td>\n",
       "      <td>1.090053</td>\n",
       "      <td>1.211424</td>\n",
       "    </tr>\n",
       "    <tr>\n",
       "      <th>2</th>\n",
       "      <td>0.714701</td>\n",
       "      <td>-0.650878</td>\n",
       "      <td>-0.375953</td>\n",
       "      <td>-0.506892</td>\n",
       "      <td>-0.954988</td>\n",
       "    </tr>\n",
       "    <tr>\n",
       "      <th>3</th>\n",
       "      <td>-1.298338</td>\n",
       "      <td>0.667070</td>\n",
       "      <td>0.532565</td>\n",
       "      <td>0.969612</td>\n",
       "      <td>-0.103168</td>\n",
       "    </tr>\n",
       "    <tr>\n",
       "      <th>4</th>\n",
       "      <td>-0.754095</td>\n",
       "      <td>-1.675834</td>\n",
       "      <td>-0.468763</td>\n",
       "      <td>-0.061358</td>\n",
       "      <td>-0.130509</td>\n",
       "    </tr>\n",
       "    <tr>\n",
       "      <th>5</th>\n",
       "      <td>-0.247980</td>\n",
       "      <td>-0.751463</td>\n",
       "      <td>1.412367</td>\n",
       "      <td>0.408053</td>\n",
       "      <td>-0.088410</td>\n",
       "    </tr>\n",
       "    <tr>\n",
       "      <th>6</th>\n",
       "      <td>-0.795963</td>\n",
       "      <td>0.099111</td>\n",
       "      <td>0.513840</td>\n",
       "      <td>1.977999</td>\n",
       "      <td>-0.961438</td>\n",
       "    </tr>\n",
       "    <tr>\n",
       "      <th>7</th>\n",
       "      <td>0.928619</td>\n",
       "      <td>0.310223</td>\n",
       "      <td>0.990860</td>\n",
       "      <td>0.938891</td>\n",
       "      <td>-1.163282</td>\n",
       "    </tr>\n",
       "    <tr>\n",
       "      <th>8</th>\n",
       "      <td>-0.170343</td>\n",
       "      <td>1.002699</td>\n",
       "      <td>-1.105008</td>\n",
       "      <td>0.769819</td>\n",
       "      <td>0.246842</td>\n",
       "    </tr>\n",
       "    <tr>\n",
       "      <th>9</th>\n",
       "      <td>-0.380455</td>\n",
       "      <td>0.112652</td>\n",
       "      <td>1.879436</td>\n",
       "      <td>0.656179</td>\n",
       "      <td>1.097003</td>\n",
       "    </tr>\n",
       "  </tbody>\n",
       "</table>\n",
       "</div>"
      ],
      "text/plain": [
       "          0         1         2         3         4\n",
       "0 -1.824600  0.628992  1.074873 -0.011926  0.209876\n",
       "1  0.383517  0.295917 -0.569764  1.090053  1.211424\n",
       "2  0.714701 -0.650878 -0.375953 -0.506892 -0.954988\n",
       "3 -1.298338  0.667070  0.532565  0.969612 -0.103168\n",
       "4 -0.754095 -1.675834 -0.468763 -0.061358 -0.130509\n",
       "5 -0.247980 -0.751463  1.412367  0.408053 -0.088410\n",
       "6 -0.795963  0.099111  0.513840  1.977999 -0.961438\n",
       "7  0.928619  0.310223  0.990860  0.938891 -1.163282\n",
       "8 -0.170343  1.002699 -1.105008  0.769819  0.246842\n",
       "9 -0.380455  0.112652  1.879436  0.656179  1.097003"
      ]
     },
     "execution_count": 12,
     "metadata": {},
     "output_type": "execute_result"
    }
   ],
   "source": [
    "# pandas\n",
    "import pandas as pd\n",
    "pd.DataFrame(stock_change)"
   ]
  },
  {
   "cell_type": "code",
   "execution_count": 13,
   "id": "7e147a43",
   "metadata": {},
   "outputs": [
    {
     "name": "stdout",
     "output_type": "stream",
     "text": [
      "['股票1', '股票2', '股票3', '股票4', '股票5', '股票6', '股票7', '股票8', '股票9', '股票10']\n"
     ]
    },
    {
     "data": {
      "text/html": [
       "<div>\n",
       "<style scoped>\n",
       "    .dataframe tbody tr th:only-of-type {\n",
       "        vertical-align: middle;\n",
       "    }\n",
       "\n",
       "    .dataframe tbody tr th {\n",
       "        vertical-align: top;\n",
       "    }\n",
       "\n",
       "    .dataframe thead th {\n",
       "        text-align: right;\n",
       "    }\n",
       "</style>\n",
       "<table border=\"1\" class=\"dataframe\">\n",
       "  <thead>\n",
       "    <tr style=\"text-align: right;\">\n",
       "      <th></th>\n",
       "      <th>0</th>\n",
       "      <th>1</th>\n",
       "      <th>2</th>\n",
       "      <th>3</th>\n",
       "      <th>4</th>\n",
       "    </tr>\n",
       "  </thead>\n",
       "  <tbody>\n",
       "    <tr>\n",
       "      <th>股票1</th>\n",
       "      <td>-1.824600</td>\n",
       "      <td>0.628992</td>\n",
       "      <td>1.074873</td>\n",
       "      <td>-0.011926</td>\n",
       "      <td>0.209876</td>\n",
       "    </tr>\n",
       "    <tr>\n",
       "      <th>股票2</th>\n",
       "      <td>0.383517</td>\n",
       "      <td>0.295917</td>\n",
       "      <td>-0.569764</td>\n",
       "      <td>1.090053</td>\n",
       "      <td>1.211424</td>\n",
       "    </tr>\n",
       "    <tr>\n",
       "      <th>股票3</th>\n",
       "      <td>0.714701</td>\n",
       "      <td>-0.650878</td>\n",
       "      <td>-0.375953</td>\n",
       "      <td>-0.506892</td>\n",
       "      <td>-0.954988</td>\n",
       "    </tr>\n",
       "    <tr>\n",
       "      <th>股票4</th>\n",
       "      <td>-1.298338</td>\n",
       "      <td>0.667070</td>\n",
       "      <td>0.532565</td>\n",
       "      <td>0.969612</td>\n",
       "      <td>-0.103168</td>\n",
       "    </tr>\n",
       "    <tr>\n",
       "      <th>股票5</th>\n",
       "      <td>-0.754095</td>\n",
       "      <td>-1.675834</td>\n",
       "      <td>-0.468763</td>\n",
       "      <td>-0.061358</td>\n",
       "      <td>-0.130509</td>\n",
       "    </tr>\n",
       "    <tr>\n",
       "      <th>股票6</th>\n",
       "      <td>-0.247980</td>\n",
       "      <td>-0.751463</td>\n",
       "      <td>1.412367</td>\n",
       "      <td>0.408053</td>\n",
       "      <td>-0.088410</td>\n",
       "    </tr>\n",
       "    <tr>\n",
       "      <th>股票7</th>\n",
       "      <td>-0.795963</td>\n",
       "      <td>0.099111</td>\n",
       "      <td>0.513840</td>\n",
       "      <td>1.977999</td>\n",
       "      <td>-0.961438</td>\n",
       "    </tr>\n",
       "    <tr>\n",
       "      <th>股票8</th>\n",
       "      <td>0.928619</td>\n",
       "      <td>0.310223</td>\n",
       "      <td>0.990860</td>\n",
       "      <td>0.938891</td>\n",
       "      <td>-1.163282</td>\n",
       "    </tr>\n",
       "    <tr>\n",
       "      <th>股票9</th>\n",
       "      <td>-0.170343</td>\n",
       "      <td>1.002699</td>\n",
       "      <td>-1.105008</td>\n",
       "      <td>0.769819</td>\n",
       "      <td>0.246842</td>\n",
       "    </tr>\n",
       "    <tr>\n",
       "      <th>股票10</th>\n",
       "      <td>-0.380455</td>\n",
       "      <td>0.112652</td>\n",
       "      <td>1.879436</td>\n",
       "      <td>0.656179</td>\n",
       "      <td>1.097003</td>\n",
       "    </tr>\n",
       "  </tbody>\n",
       "</table>\n",
       "</div>"
      ],
      "text/plain": [
       "             0         1         2         3         4\n",
       "股票1  -1.824600  0.628992  1.074873 -0.011926  0.209876\n",
       "股票2   0.383517  0.295917 -0.569764  1.090053  1.211424\n",
       "股票3   0.714701 -0.650878 -0.375953 -0.506892 -0.954988\n",
       "股票4  -1.298338  0.667070  0.532565  0.969612 -0.103168\n",
       "股票5  -0.754095 -1.675834 -0.468763 -0.061358 -0.130509\n",
       "股票6  -0.247980 -0.751463  1.412367  0.408053 -0.088410\n",
       "股票7  -0.795963  0.099111  0.513840  1.977999 -0.961438\n",
       "股票8   0.928619  0.310223  0.990860  0.938891 -1.163282\n",
       "股票9  -0.170343  1.002699 -1.105008  0.769819  0.246842\n",
       "股票10 -0.380455  0.112652  1.879436  0.656179  1.097003"
      ]
     },
     "execution_count": 13,
     "metadata": {},
     "output_type": "execute_result"
    }
   ],
   "source": [
    "# 添加行列标签\n",
    "stock_code = [f'股票{i+1}' for i in range(stock_change.shape[0])]\n",
    "print(stock_code)\n",
    "\n",
    "pd.DataFrame(stock_change,index=stock_code)"
   ]
  },
  {
   "cell_type": "code",
   "execution_count": 14,
   "id": "e564770e",
   "metadata": {},
   "outputs": [
    {
     "data": {
      "text/plain": [
       "DatetimeIndex(['2019-04-03', '2019-04-04', '2019-04-05', '2019-04-08',\n",
       "               '2019-04-09'],\n",
       "              dtype='datetime64[ns]', freq='B')"
      ]
     },
     "execution_count": 14,
     "metadata": {},
     "output_type": "execute_result"
    }
   ],
   "source": [
    "# 设置列标签，采用pd.date_range()自动生成跳过周末的时间\n",
    "date = pd.date_range(start='20190403',periods=stock_change.shape[1],freq='B')\n",
    "date"
   ]
  },
  {
   "cell_type": "code",
   "execution_count": 15,
   "id": "478b98bb",
   "metadata": {},
   "outputs": [],
   "source": [
    "stock_c = pd.DataFrame(stock_change,index=stock_code, columns=date)"
   ]
  },
  {
   "cell_type": "code",
   "execution_count": 16,
   "id": "0abce4cd-9542-43db-9d49-e8b36bdc90a1",
   "metadata": {},
   "outputs": [
    {
     "data": {
      "text/html": [
       "<div>\n",
       "<style scoped>\n",
       "    .dataframe tbody tr th:only-of-type {\n",
       "        vertical-align: middle;\n",
       "    }\n",
       "\n",
       "    .dataframe tbody tr th {\n",
       "        vertical-align: top;\n",
       "    }\n",
       "\n",
       "    .dataframe thead th {\n",
       "        text-align: right;\n",
       "    }\n",
       "</style>\n",
       "<table border=\"1\" class=\"dataframe\">\n",
       "  <thead>\n",
       "    <tr style=\"text-align: right;\">\n",
       "      <th></th>\n",
       "      <th>2019-04-03</th>\n",
       "      <th>2019-04-04</th>\n",
       "      <th>2019-04-05</th>\n",
       "      <th>2019-04-08</th>\n",
       "      <th>2019-04-09</th>\n",
       "    </tr>\n",
       "  </thead>\n",
       "  <tbody>\n",
       "    <tr>\n",
       "      <th>股票1</th>\n",
       "      <td>-1.824600</td>\n",
       "      <td>0.628992</td>\n",
       "      <td>1.074873</td>\n",
       "      <td>-0.011926</td>\n",
       "      <td>0.209876</td>\n",
       "    </tr>\n",
       "    <tr>\n",
       "      <th>股票2</th>\n",
       "      <td>0.383517</td>\n",
       "      <td>0.295917</td>\n",
       "      <td>-0.569764</td>\n",
       "      <td>1.090053</td>\n",
       "      <td>1.211424</td>\n",
       "    </tr>\n",
       "    <tr>\n",
       "      <th>股票3</th>\n",
       "      <td>0.714701</td>\n",
       "      <td>-0.650878</td>\n",
       "      <td>-0.375953</td>\n",
       "      <td>-0.506892</td>\n",
       "      <td>-0.954988</td>\n",
       "    </tr>\n",
       "    <tr>\n",
       "      <th>股票4</th>\n",
       "      <td>-1.298338</td>\n",
       "      <td>0.667070</td>\n",
       "      <td>0.532565</td>\n",
       "      <td>0.969612</td>\n",
       "      <td>-0.103168</td>\n",
       "    </tr>\n",
       "    <tr>\n",
       "      <th>股票5</th>\n",
       "      <td>-0.754095</td>\n",
       "      <td>-1.675834</td>\n",
       "      <td>-0.468763</td>\n",
       "      <td>-0.061358</td>\n",
       "      <td>-0.130509</td>\n",
       "    </tr>\n",
       "  </tbody>\n",
       "</table>\n",
       "</div>"
      ],
      "text/plain": [
       "     2019-04-03  2019-04-04  2019-04-05  2019-04-08  2019-04-09\n",
       "股票1   -1.824600    0.628992    1.074873   -0.011926    0.209876\n",
       "股票2    0.383517    0.295917   -0.569764    1.090053    1.211424\n",
       "股票3    0.714701   -0.650878   -0.375953   -0.506892   -0.954988\n",
       "股票4   -1.298338    0.667070    0.532565    0.969612   -0.103168\n",
       "股票5   -0.754095   -1.675834   -0.468763   -0.061358   -0.130509"
      ]
     },
     "execution_count": 16,
     "metadata": {},
     "output_type": "execute_result"
    }
   ],
   "source": [
    "stock_c.head()   # 查看前五行"
   ]
  },
  {
   "cell_type": "code",
   "execution_count": 17,
   "id": "ed9203f7-701e-41ed-853f-568fa9d93d7f",
   "metadata": {},
   "outputs": [
    {
     "data": {
      "text/html": [
       "<div>\n",
       "<style scoped>\n",
       "    .dataframe tbody tr th:only-of-type {\n",
       "        vertical-align: middle;\n",
       "    }\n",
       "\n",
       "    .dataframe tbody tr th {\n",
       "        vertical-align: top;\n",
       "    }\n",
       "\n",
       "    .dataframe thead th {\n",
       "        text-align: right;\n",
       "    }\n",
       "</style>\n",
       "<table border=\"1\" class=\"dataframe\">\n",
       "  <thead>\n",
       "    <tr style=\"text-align: right;\">\n",
       "      <th></th>\n",
       "      <th>2019-04-03</th>\n",
       "      <th>2019-04-04</th>\n",
       "      <th>2019-04-05</th>\n",
       "      <th>2019-04-08</th>\n",
       "      <th>2019-04-09</th>\n",
       "    </tr>\n",
       "  </thead>\n",
       "  <tbody>\n",
       "    <tr>\n",
       "      <th>股票6</th>\n",
       "      <td>-0.247980</td>\n",
       "      <td>-0.751463</td>\n",
       "      <td>1.412367</td>\n",
       "      <td>0.408053</td>\n",
       "      <td>-0.088410</td>\n",
       "    </tr>\n",
       "    <tr>\n",
       "      <th>股票7</th>\n",
       "      <td>-0.795963</td>\n",
       "      <td>0.099111</td>\n",
       "      <td>0.513840</td>\n",
       "      <td>1.977999</td>\n",
       "      <td>-0.961438</td>\n",
       "    </tr>\n",
       "    <tr>\n",
       "      <th>股票8</th>\n",
       "      <td>0.928619</td>\n",
       "      <td>0.310223</td>\n",
       "      <td>0.990860</td>\n",
       "      <td>0.938891</td>\n",
       "      <td>-1.163282</td>\n",
       "    </tr>\n",
       "    <tr>\n",
       "      <th>股票9</th>\n",
       "      <td>-0.170343</td>\n",
       "      <td>1.002699</td>\n",
       "      <td>-1.105008</td>\n",
       "      <td>0.769819</td>\n",
       "      <td>0.246842</td>\n",
       "    </tr>\n",
       "    <tr>\n",
       "      <th>股票10</th>\n",
       "      <td>-0.380455</td>\n",
       "      <td>0.112652</td>\n",
       "      <td>1.879436</td>\n",
       "      <td>0.656179</td>\n",
       "      <td>1.097003</td>\n",
       "    </tr>\n",
       "  </tbody>\n",
       "</table>\n",
       "</div>"
      ],
      "text/plain": [
       "      2019-04-03  2019-04-04  2019-04-05  2019-04-08  2019-04-09\n",
       "股票6    -0.247980   -0.751463    1.412367    0.408053   -0.088410\n",
       "股票7    -0.795963    0.099111    0.513840    1.977999   -0.961438\n",
       "股票8     0.928619    0.310223    0.990860    0.938891   -1.163282\n",
       "股票9    -0.170343    1.002699   -1.105008    0.769819    0.246842\n",
       "股票10   -0.380455    0.112652    1.879436    0.656179    1.097003"
      ]
     },
     "execution_count": 17,
     "metadata": {},
     "output_type": "execute_result"
    }
   ],
   "source": [
    "stock_c.tail()   # 查看后五行"
   ]
  },
  {
   "cell_type": "code",
   "execution_count": 18,
   "id": "c4d3249d-721d-489a-8402-2a8d33702c6f",
   "metadata": {},
   "outputs": [
    {
     "data": {
      "text/plain": [
       "np.float64(-0.24797993533295545)"
      ]
     },
     "execution_count": 18,
     "metadata": {},
     "output_type": "execute_result"
    }
   ],
   "source": [
    "# 不可以先行后列\n",
    "# stock_c['股票6']['2019-04-03']\n",
    "stock_c['2019-04-03']['股票6']"
   ]
  },
  {
   "cell_type": "code",
   "execution_count": 19,
   "id": "5173973b-d82b-4b80-b101-7679aab80654",
   "metadata": {},
   "outputs": [
    {
     "data": {
      "text/html": [
       "<div>\n",
       "<style scoped>\n",
       "    .dataframe tbody tr th:only-of-type {\n",
       "        vertical-align: middle;\n",
       "    }\n",
       "\n",
       "    .dataframe tbody tr th {\n",
       "        vertical-align: top;\n",
       "    }\n",
       "\n",
       "    .dataframe thead th {\n",
       "        text-align: right;\n",
       "    }\n",
       "</style>\n",
       "<table border=\"1\" class=\"dataframe\">\n",
       "  <thead>\n",
       "    <tr style=\"text-align: right;\">\n",
       "      <th></th>\n",
       "      <th>2019-04-03</th>\n",
       "      <th>2019-04-04</th>\n",
       "      <th>2019-04-05</th>\n",
       "      <th>2019-04-08</th>\n",
       "      <th>2019-04-09</th>\n",
       "    </tr>\n",
       "  </thead>\n",
       "  <tbody>\n",
       "    <tr>\n",
       "      <th>count</th>\n",
       "      <td>10.000000</td>\n",
       "      <td>10.000000</td>\n",
       "      <td>10.000000</td>\n",
       "      <td>10.000000</td>\n",
       "      <td>10.000000</td>\n",
       "    </tr>\n",
       "    <tr>\n",
       "      <th>mean</th>\n",
       "      <td>-0.344494</td>\n",
       "      <td>0.003849</td>\n",
       "      <td>0.388445</td>\n",
       "      <td>0.623043</td>\n",
       "      <td>-0.063665</td>\n",
       "    </tr>\n",
       "    <tr>\n",
       "      <th>std</th>\n",
       "      <td>0.868317</td>\n",
       "      <td>0.806153</td>\n",
       "      <td>0.978078</td>\n",
       "      <td>0.706406</td>\n",
       "      <td>0.813804</td>\n",
       "    </tr>\n",
       "    <tr>\n",
       "      <th>min</th>\n",
       "      <td>-1.824600</td>\n",
       "      <td>-1.675834</td>\n",
       "      <td>-1.105008</td>\n",
       "      <td>-0.506892</td>\n",
       "      <td>-1.163282</td>\n",
       "    </tr>\n",
       "    <tr>\n",
       "      <th>25%</th>\n",
       "      <td>-0.785496</td>\n",
       "      <td>-0.463381</td>\n",
       "      <td>-0.445561</td>\n",
       "      <td>0.093069</td>\n",
       "      <td>-0.748868</td>\n",
       "    </tr>\n",
       "    <tr>\n",
       "      <th>50%</th>\n",
       "      <td>-0.314217</td>\n",
       "      <td>0.204284</td>\n",
       "      <td>0.523203</td>\n",
       "      <td>0.712999</td>\n",
       "      <td>-0.095789</td>\n",
       "    </tr>\n",
       "    <tr>\n",
       "      <th>75%</th>\n",
       "      <td>0.245052</td>\n",
       "      <td>0.549299</td>\n",
       "      <td>1.053870</td>\n",
       "      <td>0.961932</td>\n",
       "      <td>0.237601</td>\n",
       "    </tr>\n",
       "    <tr>\n",
       "      <th>max</th>\n",
       "      <td>0.928619</td>\n",
       "      <td>1.002699</td>\n",
       "      <td>1.879436</td>\n",
       "      <td>1.977999</td>\n",
       "      <td>1.211424</td>\n",
       "    </tr>\n",
       "  </tbody>\n",
       "</table>\n",
       "</div>"
      ],
      "text/plain": [
       "       2019-04-03  2019-04-04  2019-04-05  2019-04-08  2019-04-09\n",
       "count   10.000000   10.000000   10.000000   10.000000   10.000000\n",
       "mean    -0.344494    0.003849    0.388445    0.623043   -0.063665\n",
       "std      0.868317    0.806153    0.978078    0.706406    0.813804\n",
       "min     -1.824600   -1.675834   -1.105008   -0.506892   -1.163282\n",
       "25%     -0.785496   -0.463381   -0.445561    0.093069   -0.748868\n",
       "50%     -0.314217    0.204284    0.523203    0.712999   -0.095789\n",
       "75%      0.245052    0.549299    1.053870    0.961932    0.237601\n",
       "max      0.928619    1.002699    1.879436    1.977999    1.211424"
      ]
     },
     "execution_count": 19,
     "metadata": {},
     "output_type": "execute_result"
    }
   ],
   "source": [
    "stock_c.describe()"
   ]
  },
  {
   "cell_type": "code",
   "execution_count": 20,
   "id": "8f830e3a-70f4-412f-8b3e-1f456da49369",
   "metadata": {},
   "outputs": [
    {
     "data": {
      "text/plain": [
       "2019-04-03    2.753219\n",
       "Freq: B, dtype: float64"
      ]
     },
     "execution_count": 20,
     "metadata": {},
     "output_type": "execute_result"
    }
   ],
   "source": [
    "stock_c[['2019-04-03']].apply(lambda x: x.max()-x.min())"
   ]
  },
  {
   "cell_type": "code",
   "execution_count": 21,
   "id": "fbbe169b-f9de-4ed2-b237-b55f00fac3dd",
   "metadata": {},
   "outputs": [
    {
     "data": {
      "text/html": [
       "<div>\n",
       "<style scoped>\n",
       "    .dataframe tbody tr th:only-of-type {\n",
       "        vertical-align: middle;\n",
       "    }\n",
       "\n",
       "    .dataframe tbody tr th {\n",
       "        vertical-align: top;\n",
       "    }\n",
       "\n",
       "    .dataframe thead th {\n",
       "        text-align: right;\n",
       "    }\n",
       "</style>\n",
       "<table border=\"1\" class=\"dataframe\">\n",
       "  <thead>\n",
       "    <tr style=\"text-align: right;\">\n",
       "      <th></th>\n",
       "      <th>2019-04-03</th>\n",
       "    </tr>\n",
       "  </thead>\n",
       "  <tbody>\n",
       "    <tr>\n",
       "      <th>股票1</th>\n",
       "      <td>False</td>\n",
       "    </tr>\n",
       "    <tr>\n",
       "      <th>股票2</th>\n",
       "      <td>False</td>\n",
       "    </tr>\n",
       "    <tr>\n",
       "      <th>股票3</th>\n",
       "      <td>False</td>\n",
       "    </tr>\n",
       "    <tr>\n",
       "      <th>股票4</th>\n",
       "      <td>False</td>\n",
       "    </tr>\n",
       "    <tr>\n",
       "      <th>股票5</th>\n",
       "      <td>False</td>\n",
       "    </tr>\n",
       "    <tr>\n",
       "      <th>股票6</th>\n",
       "      <td>False</td>\n",
       "    </tr>\n",
       "    <tr>\n",
       "      <th>股票7</th>\n",
       "      <td>False</td>\n",
       "    </tr>\n",
       "    <tr>\n",
       "      <th>股票8</th>\n",
       "      <td>False</td>\n",
       "    </tr>\n",
       "    <tr>\n",
       "      <th>股票9</th>\n",
       "      <td>False</td>\n",
       "    </tr>\n",
       "    <tr>\n",
       "      <th>股票10</th>\n",
       "      <td>False</td>\n",
       "    </tr>\n",
       "  </tbody>\n",
       "</table>\n",
       "</div>"
      ],
      "text/plain": [
       "      2019-04-03\n",
       "股票1        False\n",
       "股票2        False\n",
       "股票3        False\n",
       "股票4        False\n",
       "股票5        False\n",
       "股票6        False\n",
       "股票7        False\n",
       "股票8        False\n",
       "股票9        False\n",
       "股票10       False"
      ]
     },
     "execution_count": 21,
     "metadata": {},
     "output_type": "execute_result"
    }
   ],
   "source": [
    "stock_c[['2019-04-03']].apply(lambda x: (x > 0) & (x < 0.2))"
   ]
  },
  {
   "cell_type": "code",
   "execution_count": 22,
   "id": "7f64d707-9cae-4c5c-8a43-a25a874a4b2b",
   "metadata": {},
   "outputs": [],
   "source": [
    "# 文件保存\n",
    "stock_c.to_csv(\"output_index.csv\", index=True)"
   ]
  },
  {
   "cell_type": "code",
   "execution_count": 23,
   "id": "5d16d38f-57b0-4a46-b666-9e4ed20d1b98",
   "metadata": {},
   "outputs": [
    {
     "name": "stdout",
     "output_type": "stream",
     "text": [
      "       A      B      C\n",
      "0  False  False  False\n",
      "1   True  False  False\n",
      "2  False   True  False\n",
      "A    1\n",
      "B    1\n",
      "C    0\n",
      "dtype: int64\n"
     ]
    }
   ],
   "source": [
    "# 创建含缺失值的 DataFrame\n",
    "df = pd.DataFrame({\n",
    "    'A': [1, np.nan, 3],\n",
    "    'B': [4, 5, None],\n",
    "    'C': [7, 8, 9]\n",
    "})\n",
    "\n",
    "# 判断缺失值（返回布尔值 DataFrame）\n",
    "print(df.isna())\n",
    "# 统计每列缺失值数量\n",
    "print(df.isna().sum())"
   ]
  }
 ],
 "metadata": {
  "kernelspec": {
   "display_name": "Python 3 (ipykernel)",
   "language": "python",
   "name": "python3"
  },
  "language_info": {
   "codemirror_mode": {
    "name": "ipython",
    "version": 3
   },
   "file_extension": ".py",
   "mimetype": "text/x-python",
   "name": "python",
   "nbconvert_exporter": "python",
   "pygments_lexer": "ipython3",
   "version": "3.10.1"
  }
 },
 "nbformat": 4,
 "nbformat_minor": 5
}
