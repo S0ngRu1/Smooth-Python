{
 "cells": [
  {
   "cell_type": "markdown",
   "id": "4ee97ef4",
   "metadata": {},
   "source": [
    "numpy与list运算效率比较"
   ]
  },
  {
   "cell_type": "code",
   "execution_count": null,
   "id": "2f01ab53a1c7e96a",
   "metadata": {},
   "outputs": [
    {
     "name": "stdout",
     "output_type": "stream",
     "text": [
      "CPU times: total: 859 ms\n",
      "Wall time: 878 ms\n",
      "CPU times: total: 172 ms\n",
      "Wall time: 185 ms\n"
     ]
    }
   ],
   "source": [
    "import random\n",
    "import time\n",
    "import numpy as np\n",
    "\n",
    "a = []\n",
    "for i in range(100000000):\n",
    "    a.append(random.random())\n",
    "\n",
    "# %time 是 IPython 环境（如 Jupyter Notebook、JupyterLab 或 IPython 终端）中的魔术命令，用于测量代码执行时间。\n",
    "%time sum1 = sum(a)\n",
    "\n",
    "b = np.array(a)\n",
    "%time sum2 = np.sum(b)\n"
   ]
  },
  {
   "cell_type": "code",
   "execution_count": 4,
   "id": "0ff41be1",
   "metadata": {},
   "outputs": [
    {
     "data": {
      "text/plain": [
       "array([1., 1., 1., 1., 1., 1., 1., 1., 1., 1.])"
      ]
     },
     "execution_count": 4,
     "metadata": {},
     "output_type": "execute_result"
    }
   ],
   "source": [
    "import numpy as np\n",
    "np.ones(10)"
   ]
  },
  {
   "cell_type": "code",
   "execution_count": 6,
   "id": "034c90ac",
   "metadata": {},
   "outputs": [
    {
     "data": {
      "text/plain": [
       "array([[1., 1., 1.],\n",
       "       [1., 1., 1.]])"
      ]
     },
     "execution_count": 6,
     "metadata": {},
     "output_type": "execute_result"
    }
   ],
   "source": [
    "import numpy as np\n",
    "np.ones([2,3])"
   ]
  },
  {
   "cell_type": "code",
   "execution_count": 8,
   "id": "cb437c23",
   "metadata": {},
   "outputs": [
    {
     "data": {
      "text/plain": [
       "array([[0, 0, 0],\n",
       "       [0, 0, 0]])"
      ]
     },
     "execution_count": 8,
     "metadata": {},
     "output_type": "execute_result"
    }
   ],
   "source": [
    "np.zeros_like(np.array([[1,2,3],[4,5,6]]))"
   ]
  },
  {
   "cell_type": "code",
   "execution_count": 10,
   "id": "5694f7ee",
   "metadata": {},
   "outputs": [
    {
     "name": "stdout",
     "output_type": "stream",
     "text": [
      "6\n",
      "[[1 2]\n",
      " [5 6]]\n",
      "[0 4 8]\n"
     ]
    }
   ],
   "source": [
    "arr = np.arange(12).reshape(3, 4)  # 3行4列数组：[[0,1,2,3],[4,5,6,7],[8,9,10,11]]\n",
    "\n",
    "# 索引\n",
    "print(arr[1, 2])  # 第2行第3列：6\n",
    "\n",
    "# 切片（取第1-2行，第2-3列）\n",
    "print(arr[0:2, 1:3])  # [[1,2], [5,6]]\n",
    "\n",
    "# 省略号（...）表示剩余维度全取\n",
    "print(arr[..., 0])  # 取所有行的第1列：[0,4,8]"
   ]
  },
  {
   "cell_type": "code",
   "execution_count": 13,
   "id": "6cf0298c",
   "metadata": {},
   "outputs": [
    {
     "name": "stdout",
     "output_type": "stream",
     "text": [
      "False\n",
      "True\n",
      "True\n",
      "False\n",
      "[[ 0  1  2  3]\n",
      " [ 4  5  6  7]\n",
      " [ 8  9 10 11]]\n",
      "[[200   1   2   3]\n",
      " [  4   5   6   7]\n",
      " [  8   9  10  11]]\n",
      "[[300   1   2   3]\n",
      " [  4   5   6   7]\n",
      " [  8   9  10  11]]\n"
     ]
    }
   ],
   "source": [
    "arr = np.arange(12).reshape(3, 4)\n",
    "arr1 = np.array(arr)\n",
    "arr2 = np.asarray(arr)\n",
    "print(arr1 is arr)  # False，arr1是新数组\n",
    "print(arr2 is arr)  # False，arr2是新数组\n",
    "arr3 = np.array(arr, copy=False)\n",
    "print(arr3 is arr)  # True，arr3是视图，没有复制数据\n",
    "arr4  = np.array(arr, copy=True)\n",
    "print(arr4 is arr)  # False，arr4是新数组\n",
    "arr1[0,0] = 100\n",
    "print(arr)  # arr未变，arr1是新数组（深拷贝）\n",
    "arr3[0,0] = 200\n",
    "print(arr)  # arr变了，arr3是视图（浅拷贝）\n",
    "arr2[0,0] = 300\n",
    "print(arr)  # arr变了，arr2是视图(浅拷贝)"
   ]
  },
  {
   "cell_type": "code",
   "execution_count": 18,
   "id": "5c04b7ca",
   "metadata": {},
   "outputs": [
    {
     "data": {
      "text/plain": [
       "array([ 1.,  2.,  3.,  4.,  5.,  6.,  7.,  8.,  9., 10.])"
      ]
     },
     "execution_count": 18,
     "metadata": {},
     "output_type": "execute_result"
    }
   ],
   "source": [
    "np.linspace(1,10,10)  # 1到10之间均匀取10个数"
   ]
  },
  {
   "cell_type": "code",
   "execution_count": 19,
   "id": "da0bd90f",
   "metadata": {},
   "outputs": [
    {
     "data": {
      "text/plain": [
       "array([1.e+01, 1.e+02, 1.e+03, 1.e+04, 1.e+05, 1.e+06, 1.e+07, 1.e+08,\n",
       "       1.e+09, 1.e+10])"
      ]
     },
     "execution_count": 19,
     "metadata": {},
     "output_type": "execute_result"
    }
   ],
   "source": [
    "np.logspace(1,10,10)  # 10的1次方到10的10次方之间均匀取10个数"
   ]
  }
 ],
 "metadata": {
  "kernelspec": {
   "display_name": ".venv",
   "language": "python",
   "name": "python3"
  },
  "language_info": {
   "codemirror_mode": {
    "name": "ipython",
    "version": 3
   },
   "file_extension": ".py",
   "mimetype": "text/x-python",
   "name": "python",
   "nbconvert_exporter": "python",
   "pygments_lexer": "ipython3",
   "version": "3.10.1"
  }
 },
 "nbformat": 4,
 "nbformat_minor": 5
}
